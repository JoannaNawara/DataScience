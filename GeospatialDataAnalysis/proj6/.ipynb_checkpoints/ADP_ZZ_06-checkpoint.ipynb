{
  "cells": [
    {
      "cell_type": "markdown",
      "source": [
        "# Analiza danych przestrzennych - ćwiczenia laboratoryjne 2022/2023\n",
        "\n",
        "Ten notatnik zalicza się do grupy zestawów zadań, na podstawie których odbywa się zaliczenie ćwiczeń i podlega zwrotowi do oceny w ustalonym na zajęciach terminie.\n",
        "\n",
        "Uwagi ogólne:\n",
        "- Podczas wykonywania zadań należy korzystać wyłącznie z pakietów zaimportowanych na początku notatnika oraz z pakietów wchodzących w skład standardowej biblioteki Pythona, które można zaimportować samodzielnie we wskazanej komórce.\n",
        "- Swoje rozwiązania należy wprowadzać wyłącznie w miejce następujących fragmentów kodu:<br/> ` # YOUR CODE HERE`<br/> ` raise NotImplementedError()`<br/> Nie należy w żaden sposób modyfikować pozostałych fragmentów kodu oraz elementów notatnika, w szczególności dodawać lub usuwać komórek oraz zmieniać nazwy pliku.\n",
        "- Jeżeli zestaw zadań wymaga skorzystania z funkcji przygotowanych w ramach wcześniejszych zestawów zadań należy je umieścić we wskazanej komórce.\n",
        "- Wszystkie wykresy powinny być wykonane w jednolitym, przejrzystym i czytelnym stylu, mieć nadane tytuły, opisane osie oraz odpowiednio dobrany rozmiar, wielkość punktów i grubość linii. Proporcje osi wykresów przedstawiających rozkłady punktów powinny być dobrane tak, aby wykresy odzwierciedlały rzeczywisty rozkład punktów w przestrzeni.\n",
        "- Zadania, które powodują wyświetlenie komunikatu o błędzie przerywającym wykonywanie kodu nie podlegają ocenie.\n",
        "\n",
        "Przed odesłaniem zestawu zadań do oceny proszę uzupełnić komórkę z danymi autorów rozwiązania (`NAME` - nazwa grupy, `COLLABORATORS` - imiona, nazwiska i numery indeksów członków grupy) oraz upewnić się, że notatnik działa zgodnie z oczekiwaniami. W tym celu należy skorzystać z opcji **Restart Kernel and Run All Cells...** dostępnej na górnej belce notatnika pod symbolem $\\blacktriangleright\\blacktriangleright$. "
      ],
      "metadata": {
        "deletable": false,
        "editable": false,
        "nbgrader": {
          "cell_type": "markdown",
          "checksum": "a4d572b9cb35f7417343f3db3cd5a898",
          "grade": false,
          "grade_id": "cell-fcd2666579131b77",
          "locked": true,
          "schema_version": 3,
          "solution": false,
          "task": false
        },
        "tags": []
      },
      "id": "1c0fd10f"
    },
    {
      "cell_type": "code",
      "source": [
        "NAME = \"IAD33\"\n",
        "COLLABORATORS = \"Nawara Joanna 406665, Śliwa Karol 406441, Kopeć Marta 406884\""
      ],
      "outputs": [],
      "execution_count": 1,
      "metadata": {},
      "id": "59f8ae84"
    },
    {
      "cell_type": "markdown",
      "source": [
        "---"
      ],
      "metadata": {
        "deletable": false,
        "editable": false,
        "nbgrader": {
          "cell_type": "markdown",
          "checksum": "eddc8826810e4a6f7bf68319da334bd9",
          "grade": false,
          "grade_id": "cell-109006d425e5cf83",
          "locked": true,
          "schema_version": 3,
          "solution": false,
          "task": false
        },
        "tags": []
      },
      "id": "f61709d1"
    },
    {
      "cell_type": "markdown",
      "source": [
        "## Zestaw zadań 6: Klasteryzacja, agregacja i autokorelacja danych"
      ],
      "metadata": {
        "deletable": false,
        "editable": false,
        "nbgrader": {
          "cell_type": "markdown",
          "checksum": "aacf16a9a7a6eae9d08f433c5d394317",
          "grade": false,
          "grade_id": "cell-be413733df21fa86",
          "locked": true,
          "schema_version": 3,
          "solution": false,
          "task": false
        },
        "tags": []
      },
      "id": "d882ae69-936a-49a4-a902-2ae4df2f4d89"
    },
    {
      "cell_type": "code",
      "source": [
        "import numpy as np\n",
        "import pandas as pd\n",
        "import scipy as sp\n",
        "import matplotlib as mpl\n",
        "import matplotlib.pyplot as plt\n",
        "import seaborn as sns\n",
        "\n",
        "import os\n",
        "os.environ[\"OMP_NUM_THREADS\"] = '1'\n",
        "from sklearn.cluster import KMeans"
      ],
      "outputs": [
        {
          "output_type": "error",
          "ename": "<class 'ModuleNotFoundError'>",
          "evalue": "No module named 'seaborn'",
          "traceback": [
            "\u001b[0;31m---------------------------------------------------------------------------\u001b[0m",
            "\u001b[0;31mModuleNotFoundError\u001b[0m                       Traceback (most recent call last)",
            "Cell \u001b[0;32mIn[2], line 6\u001b[0m\n\u001b[1;32m      4\u001b[0m \u001b[38;5;28;01mimport\u001b[39;00m \u001b[38;5;21;01mmatplotlib\u001b[39;00m \u001b[38;5;28;01mas\u001b[39;00m \u001b[38;5;21;01mmpl\u001b[39;00m\n\u001b[1;32m      5\u001b[0m \u001b[38;5;28;01mimport\u001b[39;00m \u001b[38;5;21;01mmatplotlib\u001b[39;00m\u001b[38;5;21;01m.\u001b[39;00m\u001b[38;5;21;01mpyplot\u001b[39;00m \u001b[38;5;28;01mas\u001b[39;00m \u001b[38;5;21;01mplt\u001b[39;00m\n\u001b[0;32m----> 6\u001b[0m \u001b[38;5;28;01mimport\u001b[39;00m \u001b[38;5;21;01mseaborn\u001b[39;00m \u001b[38;5;28;01mas\u001b[39;00m \u001b[38;5;21;01msns\u001b[39;00m\n\u001b[1;32m      8\u001b[0m \u001b[38;5;28;01mimport\u001b[39;00m \u001b[38;5;21;01mos\u001b[39;00m\n\u001b[1;32m      9\u001b[0m os\u001b[38;5;241m.\u001b[39menviron[\u001b[38;5;124m\"\u001b[39m\u001b[38;5;124mOMP_NUM_THREADS\u001b[39m\u001b[38;5;124m\"\u001b[39m] \u001b[38;5;241m=\u001b[39m \u001b[38;5;124m'\u001b[39m\u001b[38;5;124m1\u001b[39m\u001b[38;5;124m'\u001b[39m\n",
            "\u001b[0;31mModuleNotFoundError\u001b[0m: No module named 'seaborn'"
          ]
        }
      ],
      "execution_count": 2,
      "metadata": {
        "deletable": false,
        "editable": false,
        "nbgrader": {
          "cell_type": "code",
          "checksum": "ad7d9ad76003e20370a6f626d39f8632",
          "grade": false,
          "grade_id": "cell-baaf088fa7f91aec",
          "locked": true,
          "schema_version": 3,
          "solution": false,
          "task": false
        },
        "tags": []
      },
      "id": "7cfdd3da-1a13-4ed2-bda3-cd76a85ae18f"
    },
    {
      "cell_type": "code",
      "source": [
        "# Miejsce do importu pakietów wchodzących w skład standardowej biblioteki Pythona oraz ustawienie opcji wykorzystywanych pakietów\n",
        "sns.set() \n",
        "sns.set_theme(style=\"whitegrid\")"
      ],
      "outputs": [],
      "execution_count": null,
      "metadata": {},
      "id": "ad7830f7-e23d-4f0e-8d49-dc26fa03742d"
    },
    {
      "cell_type": "code",
      "source": [
        "# Miejsce do wklejenie funkcji ze wcześniejszych zestawów zadań\n",
        "# YOUR CODE HERE\n",
        "import matplotlib.pyplot as plt\n",
        "#!pip install -U libpysal\n",
        "#!pip install -U geopandas\n",
        "#!pip install -U esda\n",
        "#!pip install -U splot\n",
        "from libpysal.weights.contiguity import Queen\n",
        "from libpysal import examples\n",
        "#import geopandas as gpd\n",
        "#from esda.moran import (Moran, Moran_BV,\n",
        "                       # Moran_Local, Moran_Local_BV)\n",
        "from splot.esda import moran_scatterplot"
      ],
      "outputs": [],
      "execution_count": null,
      "metadata": {
        "deletable": false,
        "nbgrader": {
          "cell_type": "code",
          "checksum": "5e21d8dca6b79b399dc8ed524cfa7b27",
          "grade": true,
          "grade_id": "cell-a46c08df43df6fd7",
          "locked": false,
          "points": 0,
          "schema_version": 3,
          "solution": true,
          "task": false
        },
        "tags": []
      },
      "id": "bf1b648a-9423-4903-8b13-86e1fc38c3a7"
    },
    {
      "cell_type": "markdown",
      "source": [
        "### Przygotowanie danych\n",
        "Wczytaj dane zawarte w plikach CSV załączonych do zestawu zadań."
      ],
      "metadata": {
        "deletable": false,
        "editable": false,
        "nbgrader": {
          "cell_type": "markdown",
          "checksum": "c5e8658bdeeb002605cff49fdc479fee",
          "grade": false,
          "grade_id": "cell-bf683202cc9a7b26",
          "locked": true,
          "schema_version": 3,
          "solution": false,
          "task": false
        },
        "tags": []
      },
      "id": "0ed92c66-bc02-4786-9a35-27bea2f61fb4"
    },
    {
      "cell_type": "code",
      "source": [
        "points = pd.read_csv(\"points_1.csv\")"
      ],
      "outputs": [],
      "execution_count": null,
      "metadata": {
        "deletable": false,
        "nbgrader": {
          "cell_type": "code",
          "checksum": "b085f7854ac3a0e1fffedc785d20bbc3",
          "grade": true,
          "grade_id": "cell-f4b61e64294f2025",
          "locked": false,
          "points": 0,
          "schema_version": 3,
          "solution": true,
          "task": false
        },
        "tags": []
      },
      "id": "33adaec9-95a2-4f61-8658-259d267aad03"
    },
    {
      "cell_type": "markdown",
      "source": [
        "### Zadanie 1: Klasteryzacja metodą k-średnich (11 pkt)\n",
        "\n",
        "Przygotuj funkcję `k_means_elbow_curve_test()`, która będzie wykonywała klasteryzację danych dla ustalonego zakresu liczby klastrów oraz obliczała dane niezbędne do wykreślenia wykresu typu elbow curve, na podstawie którego można podjąć decyzję na temat optymalnej liczby klastrów.\n",
        "\n",
        "Następnie wykorzystaj przygotowaną funkcję do podzielenia na optymalną liczbę klastrów rozkładu punktów z pliku points_1.csv. \n",
        "\n",
        "Przedstaw wyniki analizy graficznie w postaci wykresu liniowego (elbow curve) oraz rozkładu punktów podzielonego na optymalną liczbę klastrów. Zestaw wyniki na pojedynczej figurze (siatka wykresów 1x2)."
      ],
      "metadata": {
        "deletable": false,
        "editable": false,
        "nbgrader": {
          "cell_type": "markdown",
          "checksum": "21d1086a3f6bfa5805fadddca91811bb",
          "grade": false,
          "grade_id": "cell-9a00e5c6c5b95972",
          "locked": true,
          "schema_version": 3,
          "solution": false,
          "task": false
        },
        "tags": []
      },
      "id": "f76a460b-4f10-446d-b093-61e40b452a7b"
    },
    {
      "cell_type": "markdown",
      "source": [
        "#### a) Przygotowanie funkcji"
      ],
      "metadata": {
        "deletable": false,
        "editable": false,
        "nbgrader": {
          "cell_type": "markdown",
          "checksum": "2479f419bdb88324adc402fce3c997ce",
          "grade": false,
          "grade_id": "cell-6a96ee8f2ef386ed",
          "locked": true,
          "schema_version": 3,
          "solution": false,
          "task": false
        },
        "tags": []
      },
      "id": "9d96112f-d24f-4619-8daf-6476c0ad5ac0"
    },
    {
      "cell_type": "code",
      "source": [
        "def k_means_elbow_curve_test(points, number_of_clusters):\n",
        "    \"\"\"\n",
        "    Parameters\n",
        "    -------\n",
        "    points: DataFrame\n",
        "        Tablica zawierająca dwie kolumny ze współrzędnymi punktów opisane jako \"X\" i \"Y\".\n",
        "    number_of_clusters: list\n",
        "        Lista określająca zakres testowanej liczby klastrów.\n",
        "        Przykład: [1, 5]   \n",
        "\n",
        "    Returns\n",
        "    -------\n",
        "    clusters: DataFrame\n",
        "        Tablica zbierająca wyniki klasteryzacji w następujących kolumnach:\n",
        "        - \"X\" - współrzędne X punktów,\n",
        "        - \"Y\" - współrzedne Y punktów,\n",
        "        - kolejne kolumny (ich liczba zależy od liczby testowanych liczebności klastrów) opisane są jako liczba klastrów,\n",
        "        np. \"1\", \"2\", itd. i zawierają numery klastrów, do których zostały przyporządkowane konkretne punkty.\n",
        "    elbow_curve: DataFrame\n",
        "        Tablica zbierająca dane niebędne do wykonania wykresu elbow curve w dwóch kolumnach:\n",
        "        - \"N\" - liczba klastrów,\n",
        "        - \"D(N)\" - średnia odległość punktu od centrum klastra, do którego jest przypisany.\n",
        "    \"\"\"\n",
        "    \n",
        "    clusters = {'X': points.X, 'Y': points.Y}\n",
        "    clusters = pd.DataFrame(clusters)\n",
        "    distortions = []\n",
        "    \n",
        "    for i in range(number_of_clusters[0], number_of_clusters[1]+1):\n",
        "        kmeans = KMeans(i).fit(points)\n",
        "        clusters[i] = kmeans.labels_\n",
        "        distortions.append(sum(np.min(sp.spatial.distance.cdist(points, kmeans.cluster_centers_,\n",
        "                                        'euclidean'), axis=1)) / points.shape[0])\n",
        "    elbow_curve = pd.DataFrame({\"N\": np.arange(number_of_clusters[0], number_of_clusters[1]+1, 1), \"D(N)\": distortions})\n",
        "    return clusters, elbow_curve    "
      ],
      "outputs": [],
      "execution_count": null,
      "metadata": {
        "deletable": false,
        "nbgrader": {
          "cell_type": "code",
          "checksum": "035878c927dfb2a9d6003b43c1090a1a",
          "grade": true,
          "grade_id": "cell-78e7ea53a61f9b34",
          "locked": false,
          "points": 8,
          "schema_version": 3,
          "solution": true,
          "task": false
        },
        "tags": []
      },
      "id": "c0758601-b30c-4889-a744-dd161d85b9bf"
    },
    {
      "cell_type": "markdown",
      "source": [
        "#### b) Wygenerowanie danych"
      ],
      "metadata": {
        "deletable": false,
        "editable": false,
        "nbgrader": {
          "cell_type": "markdown",
          "checksum": "a147f6a291a52a22f3397b9ff805865c",
          "grade": false,
          "grade_id": "cell-dbde34f83165003a",
          "locked": true,
          "schema_version": 3,
          "solution": false,
          "task": false
        },
        "tags": []
      },
      "id": "cc4950d5-9bfb-4a46-a6e2-18d639e42869"
    },
    {
      "cell_type": "code",
      "source": [
        "clusters, elbow_curve = k_means_elbow_curve_test(points, [1,5])"
      ],
      "outputs": [],
      "execution_count": null,
      "metadata": {
        "deletable": false,
        "nbgrader": {
          "cell_type": "code",
          "checksum": "f3798221de164ebc22ee89c951f7a00f",
          "grade": true,
          "grade_id": "cell-802c8a8db5042ac0",
          "locked": false,
          "points": 1,
          "schema_version": 3,
          "solution": true,
          "task": false
        },
        "tags": []
      },
      "id": "49bbb072-4596-4af2-9344-f705c862a0c5"
    },
    {
      "cell_type": "markdown",
      "source": [
        "#### c) Wizualizacja"
      ],
      "metadata": {
        "deletable": false,
        "editable": false,
        "nbgrader": {
          "cell_type": "markdown",
          "checksum": "c8f69227b14efb30dd74838115dcba33",
          "grade": false,
          "grade_id": "cell-12bf1fcdac557d38",
          "locked": true,
          "schema_version": 3,
          "solution": false,
          "task": false
        },
        "tags": []
      },
      "id": "e5785ef3-63a1-4cf1-8236-fc84b3b9e434"
    },
    {
      "cell_type": "code",
      "source": [
        "fig, ax = plt.subplots(1,2, figsize=(10,5))\n",
        "sns.lineplot(data = elbow_curve, x=\"N\", y=\"D(N)\", ax=ax[0], color='pink', linewidth=2)\n",
        "ax[0].set_title(\"Elbow Curve Plot\")\n",
        "ax[0].set_xlabel(\"Number of clusters\")\n",
        "ax[0].set_ylabel(\"Distortions\")\n",
        "ax[0].set_xlim([1,5])\n",
        "\n",
        "sns.scatterplot(data = clusters, x=\"X\", y=\"Y\", hue=clusters[5], ax=ax[1], legend=False)\n",
        "ax[1].set_title(\"Optimal clusters\")\n",
        "ax[1].set_xlabel(\"X\")\n",
        "ax[1].set_aspect(\"equal\")\n",
        "ax[1].set_ylabel(\"Y\")\n",
        "ax[1].set_xlim([0,10])\n",
        "ax[1].set_ylim([0,10])\n",
        "\n",
        "plt.subplots_adjust(wspace = 0.3)\n",
        "plt.show()"
      ],
      "outputs": [],
      "execution_count": null,
      "metadata": {
        "deletable": false,
        "nbgrader": {
          "cell_type": "code",
          "checksum": "ec60e349f36f22a272f1f80b3c51024d",
          "grade": true,
          "grade_id": "cell-7918cfee9051bcb4",
          "locked": false,
          "points": 2,
          "schema_version": 3,
          "solution": true,
          "task": false
        },
        "tags": []
      },
      "id": "e22318e9-1bc7-406e-b032-5b20c4858ac1"
    },
    {
      "cell_type": "markdown",
      "source": [
        "### Zadanie 2: Agregacja danych na siatce prostokątnej (6 pkt)\n",
        "\n",
        "Przygotuj funkcję `agregate_on_rectangles()`, która będzie zliczać punkty w obrębie prostokątnych podobszarów.\n",
        "\n",
        "Następnie wykorzystaj przygotowaną funkcję do zagregowania rozkładów punktów z plików points_2.csv i points_3.csv. Ustaw podział obszaru na 40 podobszarów wzdłuż osi $x$ i 20 podobszarów wzdłuż osi $y$.\n",
        "\n",
        "Przedstaw wyniki analizy graficznie w postaci histogramów dwuwymiarowych z nałożonymi na nie rozkładami punktów. Zestaw wyniki na pojedynczej figurze (siatka wykresów 1x2)."
      ],
      "metadata": {
        "deletable": false,
        "editable": false,
        "nbgrader": {
          "cell_type": "markdown",
          "checksum": "0b69cbf0fee34c07a0c9e16a67366e40",
          "grade": false,
          "grade_id": "cell-792b6aca338a7bf5",
          "locked": true,
          "schema_version": 3,
          "solution": false,
          "task": false
        },
        "tags": []
      },
      "id": "27264f13-e275-454d-802b-62a66bff8bac"
    },
    {
      "cell_type": "markdown",
      "source": [
        "#### a) Przygotowanie funkcji"
      ],
      "metadata": {
        "deletable": false,
        "editable": false,
        "nbgrader": {
          "cell_type": "markdown",
          "checksum": "028c94df99d321bd19916dd99d44c9ee",
          "grade": false,
          "grade_id": "cell-4ad0c51c87aa7102",
          "locked": true,
          "schema_version": 3,
          "solution": false,
          "task": false
        },
        "tags": []
      },
      "id": "6001c63d-8ae3-4255-b13b-fa8b1fef1de1"
    },
    {
      "cell_type": "code",
      "source": [
        "def agregate_on_rectangles(points, bins, x_lim, y_lim):\n",
        "    \"\"\"\n",
        "    Parameters\n",
        "    -------\n",
        "    points: DataFrame\n",
        "        Tablica zawierająca dwie kolumny ze współrzędnymi punktów opisane jako \"X\" i \"Y\".\n",
        "    bins: list\n",
        "        Lista określająca liczbę podobszarów w poziomie i pionie.\n",
        "        Przykład: [10, 10]\n",
        "    x_lim: list\n",
        "        Lista określająca zakres wartości współrzędnej X.\n",
        "        Przykład: [0, 10]\n",
        "    y_lim: list\n",
        "        Lista określająca zakres wartości współrzędnej Y.\n",
        "        Przykład: [0, 10]   \n",
        "\n",
        "    Returns\n",
        "    -------\n",
        "    binned_data: list\n",
        "        Lista zawierająca trzy macierze:\n",
        "        - 1D ze współrzędnymi krawędzi podobszarów na osi X,\n",
        "        - 1D ze współrzędnymi krawędzi podobszarów na osi Y,\n",
        "        - 2D z liczbą punków przypisanych do każdego z podobszarów.\n",
        "        Na przykład: [array([0, 1, 2]), array([0, 1, 2]), array([[7, 2], [4, 5]])]\n",
        "    \"\"\"\n",
        "    # YOUR CODE HERE\n",
        "    H, xedge, yedge = np.histogram2d(x=points[\"X\"], y=points[\"Y\"], bins=bins, range=[x_lim, y_lim])\n",
        "    #ll = []\n",
        "    #ll.append(xedge)\n",
        "    #ll.append(yedge)\n",
        "    #ll.append(H)\n",
        "    kk = [xedge, yedge, H.transpose()]\n",
        "    #print(np.sum(H))\n",
        "    return kk\n",
        "    "
      ],
      "outputs": [],
      "execution_count": null,
      "metadata": {
        "deletable": false,
        "nbgrader": {
          "cell_type": "code",
          "checksum": "acd1f1d71187f9eff89ea56948519923",
          "grade": true,
          "grade_id": "cell-4124abb5448e69f9",
          "locked": false,
          "points": 3,
          "schema_version": 3,
          "solution": true,
          "task": false
        },
        "tags": []
      },
      "id": "0506d116-9973-4220-9584-8ea67ed64c87"
    },
    {
      "cell_type": "markdown",
      "source": [
        "#### b) Wygenerowanie danych"
      ],
      "metadata": {
        "deletable": false,
        "editable": false,
        "nbgrader": {
          "cell_type": "markdown",
          "checksum": "5f97608d9fa651924b6c6f433b4e892b",
          "grade": false,
          "grade_id": "cell-f5e429399234f312",
          "locked": true,
          "schema_version": 3,
          "solution": false,
          "task": false
        },
        "tags": []
      },
      "id": "3f4b235e-3d2b-4bbe-853c-5a2460505ad2"
    },
    {
      "cell_type": "code",
      "source": [
        "# YOUR CODE HERE\n",
        "points_2 = pd.read_csv(\"points_2.csv\")\n",
        "points_3 = pd.read_csv(\"points_3.csv\")\n",
        "print(max(points_3.X))\n",
        "bins = [40, 20]\n",
        "x_lim = [0,20]\n",
        "y_lim = [0,10]\n",
        "#print(len(points_1.index))\n",
        "z2 = agregate_on_rectangles(points_2, bins, x_lim, y_lim)\n",
        "z3 = agregate_on_rectangles(points_3, bins, x_lim, y_lim)\n",
        "#print(z3)"
      ],
      "outputs": [],
      "execution_count": null,
      "metadata": {
        "deletable": false,
        "nbgrader": {
          "cell_type": "code",
          "checksum": "1b37b156400df9424e8f659fd3ee4496",
          "grade": true,
          "grade_id": "cell-3642c42670a5da2b",
          "locked": false,
          "points": 1,
          "schema_version": 3,
          "solution": true,
          "task": false
        },
        "tags": []
      },
      "id": "8ff13863-9b86-4819-9eb9-ebb6701c1c06"
    },
    {
      "cell_type": "markdown",
      "source": [
        "#### c) Wizualizacja"
      ],
      "metadata": {
        "deletable": false,
        "editable": false,
        "nbgrader": {
          "cell_type": "markdown",
          "checksum": "489c398a4391a2ec8823b96541855ba5",
          "grade": false,
          "grade_id": "cell-67cbb8ff558cb62c",
          "locked": true,
          "schema_version": 3,
          "solution": false,
          "task": false
        },
        "tags": []
      },
      "id": "5860f5a4-2d16-4597-a393-bf2f50af41fe"
    },
    {
      "cell_type": "code",
      "source": [
        "# YOUR CODE HERE\n",
        "print(z2[0].shape)\n",
        "\n",
        "fig, ax = plt.subplots(1,2, figsize=(10,10))\n",
        "ax[0].grid(False)\n",
        "ax[0].pcolormesh(z2[0], z2[1], z2[2])\n",
        "ax[0].scatter(points_2.X, points_2.Y, s = 1, c='k')\n",
        "ax[0].set_title(\"Agregacja dla zestawu 2\")\n",
        "ax[0].set_aspect('equal')\n",
        "\n",
        "ax[1].grid(False)\n",
        "ax[1].pcolormesh(z3[0], z3[1], z3[2])\n",
        "ax[1].scatter(points_3.X, points_3.Y, s = 1, c='k')\n",
        "ax[1].set_title(\"Agregacja dla zestawu 3\")\n",
        "ax[1].set_aspect('equal')\n",
        "\n",
        "plt.show()"
      ],
      "outputs": [],
      "execution_count": null,
      "metadata": {
        "deletable": false,
        "nbgrader": {
          "cell_type": "code",
          "checksum": "e8289bdb27e031ea07f484e5bb221dc3",
          "grade": true,
          "grade_id": "cell-3b3177d764da72b8",
          "locked": false,
          "points": 2,
          "schema_version": 3,
          "solution": true,
          "task": false
        },
        "tags": []
      },
      "id": "c4f3d4ae-6ed8-4fe7-a753-36fd2ee43dee"
    },
    {
      "attachments": {
        "d0bd5a5a-b98c-4007-a244-3c92f2a31c68.png": {
          "image/png": "[encoded data removed]"
        }
      },
      "cell_type": "markdown",
      "source": [
        "### Zadanie 3: Tablica sąsiedztwa (11 pkt)\n",
        "\n",
        "Przygotuj funkcję `spatial_weights()`, która będzie przygotowywać tablicę sąsiedztwa podobszarów.\n",
        "\n",
        "Schemat generowania tablicy sąsiedztwa:\n",
        "\n",
        "![image.png](attachment:d0bd5a5a-b98c-4007-a244-3c92f2a31c68.png)\n",
        "\n",
        "Następnie wykorzystaj przygotowaną funkcję do wykonania tablic sąsiedztwa zagregowanych danych z zadania 2.\n",
        "\n",
        "Przedstaw wyniki analizy graficznie za pomocą wykresów heatmap. Zestaw wyniki na pojedynczej figurze (siatka wykresów 1x2)."
      ],
      "metadata": {
        "deletable": false,
        "editable": false,
        "nbgrader": {
          "cell_type": "markdown",
          "checksum": "bc74329715f941fc8fbea3adf2918cde",
          "grade": false,
          "grade_id": "cell-2eb07a3a740415d8",
          "locked": true,
          "schema_version": 3,
          "solution": false,
          "task": false
        },
        "tags": []
      },
      "id": "b9883dfb-94ed-4362-9413-00fbe4586990"
    },
    {
      "cell_type": "markdown",
      "source": [
        "#### a) Przygotowanie funkcji"
      ],
      "metadata": {
        "deletable": false,
        "editable": false,
        "nbgrader": {
          "cell_type": "markdown",
          "checksum": "4c9cafad732fc2533198e79cee6a6cf9",
          "grade": false,
          "grade_id": "cell-3c23265070258f0a",
          "locked": true,
          "schema_version": 3,
          "solution": false,
          "task": false
        },
        "tags": []
      },
      "id": "5e3631f1-959b-4e66-9ae2-31aeb7912217"
    },
    {
      "cell_type": "code",
      "source": [
        " def getNeighbors(i, j, m, n):\n",
        "    nL = []\n",
        "    if i > 0:\n",
        "        nL.append([i-1,j])\n",
        "    if i+1 < m:\n",
        "        nL.append([i+1,j])\n",
        "    if j > 0:\n",
        "        nL.append([i,j-1])\n",
        "    if j+1 < n:\n",
        "        nL.append([i,j+1])\n",
        "    return nL\n",
        "\n",
        "def spatial_weights(bin_counts):\n",
        "    \"\"\"\n",
        "    Parameters\n",
        "    -------\n",
        "    bin_counts: array\n",
        "        Macierz 2D z liczbą punków przypisanych do każdego z podobszarów.\n",
        "\n",
        "    Returns\n",
        "    -------\n",
        "    w: array\n",
        "        Macierz 2D zawierająca wagi przestrzenne.\n",
        "    \"\"\"    \n",
        "    # YOUR CODE HERE\n",
        "    neighbors=[]\n",
        "    maxX=len(bin_counts[0])\n",
        "    maxY=len(bin_counts)\n",
        "    spatialWeight=np.zeros((maxX*maxY, maxX*maxY))\n",
        "    \n",
        "    for j in range(maxY):\n",
        "        for i in range(maxX):\n",
        "            neighbors.append(getNeighbors(i,j,maxX, maxY))\n",
        "    \n",
        "    for i in range(maxX*maxY):\n",
        "        l=neighbors[i]\n",
        "        for n in l:\n",
        "            spatialWeight[i, n[1]*maxX+n[0]]=1\n",
        "    return spatialWeight    "
      ],
      "outputs": [],
      "execution_count": null,
      "metadata": {
        "deletable": false,
        "nbgrader": {
          "cell_type": "code",
          "checksum": "d18b4ddcd08abf67114e057e5a76a30e",
          "grade": true,
          "grade_id": "cell-0df5ac103ebf4f6a",
          "locked": false,
          "points": 8,
          "schema_version": 3,
          "solution": true,
          "task": false
        },
        "tags": []
      },
      "id": "52cc945f-2e1e-4d33-a1f7-24f4e2f9310b"
    },
    {
      "cell_type": "markdown",
      "source": [
        "#### b) Wygenerowanie danych"
      ],
      "metadata": {
        "deletable": false,
        "editable": false,
        "nbgrader": {
          "cell_type": "markdown",
          "checksum": "75864e1d973adae346bd9b0087f838c6",
          "grade": false,
          "grade_id": "cell-34cef331954821b6",
          "locked": true,
          "schema_version": 3,
          "solution": false,
          "task": false
        },
        "tags": []
      },
      "id": "d9fd17a3-08de-49f3-8db7-5c1b3c9285a6"
    },
    {
      "cell_type": "code",
      "source": [
        "# YOUR CODE HERE\n",
        "z2 = agregate_on_rectangles(points_2, bins, x_lim, y_lim)\n",
        "z3 = agregate_on_rectangles(points_3, bins, x_lim, y_lim)\n",
        "\n",
        "binCounts2=z2[2]\n",
        "binCounts3=z3[2]\n",
        "\n",
        "\n",
        "sw2=spatial_weights(binCounts2)\n",
        "sw3=spatial_weights(binCounts3)\n"
      ],
      "outputs": [],
      "execution_count": null,
      "metadata": {
        "deletable": false,
        "nbgrader": {
          "cell_type": "code",
          "checksum": "ac9f23309f092b26fc481fe6a936e6af",
          "grade": true,
          "grade_id": "cell-e3c5ac19b76576c9",
          "locked": false,
          "points": 1,
          "schema_version": 3,
          "solution": true,
          "task": false
        },
        "tags": []
      },
      "id": "9ddeceed-1117-4957-a703-3ca4d122d8ec"
    },
    {
      "cell_type": "markdown",
      "source": [
        "#### c) Wizualizacja"
      ],
      "metadata": {
        "deletable": false,
        "editable": false,
        "nbgrader": {
          "cell_type": "markdown",
          "checksum": "55801efef18cd0cc32434d98b49b218d",
          "grade": false,
          "grade_id": "cell-da7fbf9bd12b0962",
          "locked": true,
          "schema_version": 3,
          "solution": false,
          "task": false
        },
        "tags": []
      },
      "id": "cb611046-d115-41c3-ac90-2b464663cd72"
    },
    {
      "cell_type": "code",
      "source": [
        "# YOUR CODE HERE\n",
        "fig, ax = plt.subplots(2,2, figsize=(10,10))\n",
        "\n",
        "ax[0,0].grid(False)\n",
        "ax[0,0].pcolormesh(sw2)\n",
        "ax[1,0].scatter(points_2.X, points_2.Y, s = 1, c='g')\n",
        "ax[1,0].set_xlim([0,20])\n",
        "ax[1,0].set_ylim([0,10])\n",
        "ax[0,0].set_title(\"Tablica sąsiedztwa dla zestawu 2\")\n",
        "ax[0,0].set_aspect('equal')\n",
        "\n",
        "ax[0,1].grid(False)\n",
        "ax[0,1].pcolormesh(sw3)\n",
        "ax[1,1].scatter(points_3.X, points_3.Y, s = 1, c='g')\n",
        "ax[1,1].set_xlim([0,20])\n",
        "ax[1,1].set_ylim([0,10])\n",
        "ax[0,1].set_title(\"Tablica sąsiedztwa dla zestawu 3\")\n",
        "ax[0,1].set_aspect('equal')\n",
        "\n",
        "plt.show()"
      ],
      "outputs": [],
      "execution_count": null,
      "metadata": {
        "deletable": false,
        "nbgrader": {
          "cell_type": "code",
          "checksum": "53b85ea170b08a8caf25a2674382eedc",
          "grade": true,
          "grade_id": "cell-283a3e1566e8da5a",
          "locked": false,
          "points": 2,
          "schema_version": 3,
          "solution": true,
          "task": false
        },
        "tags": []
      },
      "id": "73e9674a-98e8-4512-8b51-64ba0c0a0cfe"
    },
    {
      "cell_type": "markdown",
      "source": [
        "### Zadanie 4: Opóźnienie przestrzenne (11 pkt)\n",
        "\n",
        "Przygotuj funkcję `spatial_lag()`, która będzie przygotowywać tablicę wartości opóźnienia przestrzennego.\n",
        "\n",
        "Następnie wykorzystaj przygotowaną funkcję do wyznaczania tablic opóźnienia przestrzennego zagregowanych danych z zadania 2.\n",
        "\n",
        "Przedstaw wyniki analizy graficznie w postaci histogramów dwuwymiarowych zestawionych z danymi zagregowanymi na podstawie których zostały one wykonane. Zestaw wyniki na pojedynczej figurze (siatka wykresów 2x2). Umieść zagreowane dane w górnym wierszu, a opóźnienie przestrzenne w dolnym wierszu figury.\n",
        "\n",
        "Algorytm postępowania:\n",
        "1) Spłaszczamy macierz zliczeń w podobszarach.\n",
        "2) Obliczamy poszczególne wartości tablicy opóźnienia przestrzennego zgodnie ze wzorem: <br/>\n",
        "$ LC_{i} = \\frac {\\sum_j w_{ij} \\cdot X_j} {\\sum_j w_{ij}}$  <br/>\n",
        "gdzie: $w$ - macierz sąsiedztwa, $X$ - spłaszczona macierz zliczeń w podobszarach. \n",
        "3) Konwertujemy tablicę opóźnienia przestrzennego do tych samych wymiarów jakie miała wejściowa macierz zliczeń w podobszarach."
      ],
      "metadata": {
        "deletable": false,
        "editable": false,
        "nbgrader": {
          "cell_type": "markdown",
          "checksum": "f99c931b51fbc625edadaf256d37be21",
          "grade": false,
          "grade_id": "cell-490a1d371feee973",
          "locked": true,
          "schema_version": 3,
          "solution": false,
          "task": false
        },
        "tags": []
      },
      "id": "16dfeb98-6435-4b62-8028-6a8b8a416a36"
    },
    {
      "cell_type": "markdown",
      "source": [
        "#### a) Przygotowanie funkcji"
      ],
      "metadata": {
        "deletable": false,
        "editable": false,
        "nbgrader": {
          "cell_type": "markdown",
          "checksum": "1d9b2a3907adf53570df163a5550a709",
          "grade": false,
          "grade_id": "cell-7095ddbd67ce3f67",
          "locked": true,
          "schema_version": 3,
          "solution": false,
          "task": false
        },
        "tags": []
      },
      "id": "b3caecbe-f4f0-47b5-bfca-29d30c526f7b"
    },
    {
      "cell_type": "code",
      "source": [
        "def spatial_lag(binned_data):\n",
        "    \"\"\"\n",
        "    Parameters\n",
        "    -------\n",
        "    binned_data: list\n",
        "        Lista zawierająca trzy macierze:\n",
        "        - 1D ze współrzędnymi krawędzi podobszarów na osi X,\n",
        "        - 1D ze współrzędnymi krawędzi podobszarów na osi Y,\n",
        "        - 2D z liczbą punków przypisanych do każdego z podobszarów.\n",
        "        Na przykład: [array([0, 1, 2]), array([0, 1, 2]), array([[7, 2], [4, 5]])]\n",
        "\n",
        "    Returns\n",
        "    -------\n",
        "    lagged_data: list\n",
        "        Lista zawierająca trzy macierze:0\n",
        "        - 1D ze współrzędnymi krawędzi podobszarów na osi X,\n",
        "        - 1D ze współrzędnymi krawędzi podobszarów na osi Y,\n",
        "        - 2D z wyliczonymi wartościami opóźnienia przestrzennego.\n",
        "        Na przykład: [array([0, 1, 2]), array([0, 1, 2]), array([[7, 2], [4, 5]])]\n",
        "    \"\"\"    \n",
        "    # YOUR CODE HERE\n",
        "    lagged_list=[binned_data[0], binned_data[1] ]\n",
        "    binned_data=binned_data[2]\n",
        "    x,y=len(binned_data[0]),len(binned_data)\n",
        "    w=spatial_weights(binned_data)\n",
        "    X=np.array(binned_data).flatten() #binned_data[2].flatten()\n",
        "    lc=[]\n",
        "    \n",
        "    \n",
        "    for i in range(len(w)):\n",
        "        wSum=sum(w[i])\n",
        "        wxSum=0\n",
        "        for j in range(len(w[i])):\n",
        "            wxSum+=w[i,j]*X[j]\n",
        "        lc.append(wxSum/wSum)\n",
        "    lc=np.reshape(lc,(y,x))\n",
        "    lagged_list.append(lc)\n",
        "    #print(len(lagged_list), len(lagged_list[2][0]))\n",
        "    return lagged_list"
      ],
      "outputs": [],
      "execution_count": null,
      "metadata": {
        "deletable": false,
        "nbgrader": {
          "cell_type": "code",
          "checksum": "bf45ee0385d91f5f449113e1ec824252",
          "grade": true,
          "grade_id": "cell-992c3484b24ee67e",
          "locked": false,
          "points": 8,
          "schema_version": 3,
          "solution": true,
          "task": false
        },
        "tags": []
      },
      "id": "ac9c58ba-1109-4d6e-befd-1393bcdd6f91"
    },
    {
      "cell_type": "markdown",
      "source": [
        "#### b) Wygenerowanie danych"
      ],
      "metadata": {
        "deletable": false,
        "editable": false,
        "nbgrader": {
          "cell_type": "markdown",
          "checksum": "ad00018aee05bbd887193b111fc78fb7",
          "grade": false,
          "grade_id": "cell-2fb8abccf6b666c0",
          "locked": true,
          "schema_version": 3,
          "solution": false,
          "task": false
        },
        "tags": []
      },
      "id": "0a8cd848-ecb7-4279-a889-8d3201a2ee89"
    },
    {
      "cell_type": "code",
      "source": [
        "# YOUR CODE HERE\n",
        "z2\n",
        "z3\n",
        "\n",
        "sl2=spatial_lag(z2)\n",
        "sl3=spatial_lag(z3)\n",
        "#print(sl2,sl3)"
      ],
      "outputs": [],
      "execution_count": null,
      "metadata": {
        "deletable": false,
        "nbgrader": {
          "cell_type": "code",
          "checksum": "f21d484291d469961464a272d8609fd1",
          "grade": true,
          "grade_id": "cell-d331fdab75ab4d10",
          "locked": false,
          "points": 1,
          "schema_version": 3,
          "solution": true,
          "task": false
        },
        "tags": []
      },
      "id": "e3a573a9-27ca-45a6-a77f-d2014e0bb0b9"
    },
    {
      "cell_type": "markdown",
      "source": [
        "#### c) Wizualizacja"
      ],
      "metadata": {
        "deletable": false,
        "editable": false,
        "nbgrader": {
          "cell_type": "markdown",
          "checksum": "8938621a0cc6e7103320b32c21c8e142",
          "grade": false,
          "grade_id": "cell-784867b1b250c535",
          "locked": true,
          "schema_version": 3,
          "solution": false,
          "task": false
        },
        "tags": []
      },
      "id": "3b5a18f0-6c26-498c-bc32-a32546b56de4"
    },
    {
      "cell_type": "code",
      "source": [
        "# YOUR CODE HERE\n",
        "fig, ax = plt.subplots(2,2, figsize=(10,10))\n",
        "\n",
        "ax[0,0].grid(False)\n",
        "ax[0,0].set_title(\"Agregacja dla zestawu 2\")\n",
        "ax[0,0].pcolormesh(z2[0], z2[1], z2[2])\n",
        "ax[0,0].set_aspect('equal')\n",
        "\n",
        "ax[1,0].grid(False)\n",
        "ax[1,0].set_title('Opóźnienie przestrzenne dla zestawu 2')\n",
        "ax[1,0].pcolormesh(sl2[2])\n",
        "ax[1,0].set_aspect('equal')\n",
        "\n",
        "ax[0,1].grid(False)\n",
        "ax[0,1].pcolormesh(z3[0], z3[1], z3[2])\n",
        "ax[0,1].set_title(\"Agregacja dla zestawu 3\")\n",
        "ax[0,1].set_aspect('equal')\n",
        "\n",
        "ax[1,1].grid(False)\n",
        "ax[1,1].set_title('Opóźnienie przestrzenne dla zestawu 3')\n",
        "ax[1,1].pcolormesh(sl3[2])\n",
        "ax[1,1].set_aspect('equal')\n",
        "\n",
        "\n",
        "plt.show()"
      ],
      "outputs": [],
      "execution_count": null,
      "metadata": {
        "deletable": false,
        "nbgrader": {
          "cell_type": "code",
          "checksum": "c62330967553b88fa0e797c3dcc662ba",
          "grade": true,
          "grade_id": "cell-751dfb688f19890f",
          "locked": false,
          "points": 2,
          "schema_version": 3,
          "solution": true,
          "task": false
        },
        "tags": []
      },
      "id": "fa162a82-4118-4e19-9100-a42bb066ee2f"
    },
    {
      "cell_type": "markdown",
      "source": [
        "### Zadanie 5: Wykres Morana (11 pkt)\n",
        "\n",
        "Przygotuj funckję `moran_plot_data()`, która będzie przygotowywać dane niezbędne do wykonania wykresu Morana. Wykres Morana to zestawienie wartości z macierzy zliczeń ustandaryzowanych poprzez odjęcie od nich ich wartości średniej (oś x) z wartościami z macierzy opóźnienia przestrzennego ustandaryzowanych poprzez odjęcie od nich ich wartości średniej (oś y) z nałożoną na nie prostą regresji.\n",
        "\n",
        "Następnie wykorzystaj przygotowaną funkcję do przygotowanie danych do wykonania wykresu Morana zagregowanych danych z zadania 2. \n",
        "\n",
        "Przedstaw wyniki analizy graficznie w postaci wykresów Morana zestawionych z danymi zagregowanymi na podstawie których zostały wykonane przedstawionymi w postaci histogramów dwuwymiarowych z nałożonymi na nie rozkładami punktów. Zestaw wyniki na pojedynczej figurze (siatka wykresów 2x2). Umieść zagreowane dane w górnym wierszu, a wykresy Morana w dolnym wierszu figury."
      ],
      "metadata": {
        "deletable": false,
        "editable": false,
        "nbgrader": {
          "cell_type": "markdown",
          "checksum": "401f669640529785e610799bd5edf609",
          "grade": false,
          "grade_id": "cell-701e6152994b3409",
          "locked": true,
          "schema_version": 3,
          "solution": false,
          "task": false
        },
        "tags": []
      },
      "id": "013ffea6-ee4e-4e76-bb01-f15753c84c6a"
    },
    {
      "cell_type": "markdown",
      "source": [
        "#### a) Przygotowanie funkcji"
      ],
      "metadata": {
        "deletable": false,
        "editable": false,
        "nbgrader": {
          "cell_type": "markdown",
          "checksum": "5ae67b43fbf723ddb7e2cdd5b3ce9124",
          "grade": false,
          "grade_id": "cell-e9267a40769a4ce9",
          "locked": true,
          "schema_version": 3,
          "solution": false,
          "task": false
        },
        "tags": []
      },
      "id": "9aa4d83d-1199-4b7c-9d32-4ea6bf571040"
    },
    {
      "cell_type": "code",
      "source": [
        "def moran_plot_data(bin_counts, lagged_counts):\n",
        "    \"\"\"\n",
        "    Parameters\n",
        "    -------\n",
        "    bin_counts: array\n",
        "        Macierz 2D z liczbą punków przypisanych do każdego z podobszarów.\n",
        "    lagged_counts: array\n",
        "        Macierz 2D z wartościami opóźnienia przestrzennego przypisanego do każdego z podobszarów.\n",
        "\n",
        "    Returns\n",
        "    -------\n",
        "    moran_plot_data: DataFrame\n",
        "        Tablica zawierająca dwie kolumny danych niebędnych do wykonania wykresu Morana:\n",
        "        - \"AG_STD\" - ustandarywowane dane zagregowane,\n",
        "        - \"SL_STD\" - ustandarywzowane wartości opóźnienia przestrzennego.\n",
        "    \"\"\" \n",
        "    # YOUR CODE HERE\n",
        "    #AG_STD = bins_counts[ :,2]\n",
        "    for i in range(len(bin_counts)):\n",
        "      z = (np.mean(bin_counts[i]))\n",
        "      bin_counts[i] -= z\n",
        "    AG_STD = bin_counts.ravel();\n",
        "    for j in range(len(lagged_counts)):\n",
        "      z = (np.mean(lagged_counts[j]))\n",
        "      lagged_counts[j] -= z\n",
        "    SL_STD = lagged_counts.ravel();\n",
        "    moran_plot_tab = pd.DataFrame({'AG_STD':AG_STD, 'SL_STD':SL_STD})\n",
        "    return moran_plot_tab\n"
      ],
      "outputs": [],
      "execution_count": null,
      "metadata": {
        "deletable": false,
        "nbgrader": {
          "cell_type": "code",
          "checksum": "f2eaf4c04a4573517d9a8e9e08cd43de",
          "grade": true,
          "grade_id": "cell-c9554ce881d7b258",
          "locked": false,
          "points": 8,
          "schema_version": 3,
          "solution": true,
          "task": false
        },
        "tags": []
      },
      "id": "6e5a6ec3-940b-4a97-a5db-542729b19644"
    },
    {
      "cell_type": "markdown",
      "source": [
        "#### b) Wygenerowanie danych"
      ],
      "metadata": {
        "deletable": false,
        "editable": false,
        "nbgrader": {
          "cell_type": "markdown",
          "checksum": "2f7291ed8a1889ec7379c3f68107f18d",
          "grade": false,
          "grade_id": "cell-ea2037a2b08e60c5",
          "locked": true,
          "schema_version": 3,
          "solution": false,
          "task": false
        },
        "tags": []
      },
      "id": "9b7bc2ff-41df-4efb-9da8-49c5adee2519"
    },
    {
      "cell_type": "code",
      "source": [
        "# YOUR CODE HERE\n",
        "#z2 = agregate_on_rectangles(points_2, bins, x_lim, y_lim)\n",
        "#z3 = agregate_on_rectangles(points_3, bins, x_lim, y_lim)\n",
        "bc_2 = z2[2]\n",
        "bc_3 = z3[2]\n",
        "lc_2 = sl2[2]\n",
        "lc_3 = sl3[2]\n",
        "moran_2 = moran_plot_data(bc_2, lc_2)\n",
        "moran_3 = moran_plot_data(bc_3, lc_3)\n"
      ],
      "outputs": [],
      "execution_count": null,
      "metadata": {
        "deletable": false,
        "nbgrader": {
          "cell_type": "code",
          "checksum": "69cad37af5c51e6259deb829bfa25f5d",
          "grade": true,
          "grade_id": "cell-908d3efbfd157572",
          "locked": false,
          "points": 1,
          "schema_version": 3,
          "solution": true,
          "task": false
        },
        "tags": []
      },
      "id": "44cd3a57-8263-4cbb-b371-8b66ed6f3042"
    },
    {
      "cell_type": "markdown",
      "source": [
        "#### c) Wizualizacja"
      ],
      "metadata": {
        "deletable": false,
        "editable": false,
        "nbgrader": {
          "cell_type": "markdown",
          "checksum": "e1f4fc0e85243dec2970fb6cd27275fb",
          "grade": false,
          "grade_id": "cell-7b6d198c381c1642",
          "locked": true,
          "schema_version": 3,
          "solution": false,
          "task": false
        },
        "tags": []
      },
      "id": "57c704ef-abd9-4b29-96bc-15ff8d59a0c2"
    },
    {
      "cell_type": "code",
      "source": [
        "# YOUR CODE HERE\n",
        "fig, ax = plt.subplots(2,2, figsize=(10,10))\n",
        "\n",
        "ax[0,0].grid(False)\n",
        "ax[0,0].set_title(\"Agregacja dla zestawu 2\")\n",
        "ax[0,0].pcolormesh(z2[0], z2[1], z2[2])\n",
        "ax[0,0].scatter(points_2.X, points_2.Y, s = 1, c='g')\n",
        "ax[0,0].set_aspect('equal')\n",
        "\n",
        "ax[0,1].grid(False)\n",
        "ax[0,1].set_title(\"Agregacja dla zestawu 3\")\n",
        "ax[0,1].pcolormesh(z3[0], z3[1], z3[2])\n",
        "ax[0,1].scatter(points_3.X, points_3.Y, s = 1, c='g')\n",
        "ax[0,1].set_aspect('equal')\n",
        "\n",
        "\n",
        "ax[1,0].set_title('Wykres Morana dla zestawu 2')\n",
        "#sns.regplot(x=\"AG_STD\", y=\"SL_STD\", data=moran_2, ci=None)\n",
        "ax[1,0].scatter(moran_2['AG_STD'], moran_2['SL_STD'], s=10, alpha=0.7, edgecolors=\"g\")\n",
        "b, a = np.polyfit(moran_2['AG_STD'], moran_2['SL_STD'], deg=1)\n",
        "xseq = np.linspace(0, 10, num=1000)\n",
        "ax[1,0].plot(xseq, a + b * xseq, color=\"k\", lw=2.5);\n",
        "\n",
        "\n",
        "\n",
        "ax[1,1].set_title('Wykres Morana dla zestawu 3')\n",
        "ax[1,1].scatter(moran_3['AG_STD'], moran_3['SL_STD'], s=10, alpha=0.7, edgecolors=\"g\")\n",
        "b, a = np.polyfit(moran_3['AG_STD'], moran_3['SL_STD'], deg=1)\n",
        "xseq = np.linspace(0, 10, num=1000)\n",
        "ax[1,1].plot(xseq, a + b * xseq, color=\"k\", lw=2.5);\n"
      ],
      "outputs": [],
      "execution_count": null,
      "metadata": {
        "deletable": false,
        "nbgrader": {
          "cell_type": "code",
          "checksum": "64e141c17f745348f32043a21f583f33",
          "grade": true,
          "grade_id": "cell-7375e584f08bd0c9",
          "locked": false,
          "points": 2,
          "schema_version": 3,
          "solution": true,
          "task": false
        },
        "tags": []
      },
      "id": "8327a1f4-fe3f-4167-9464-b42903105db6"
    }
  ],
  "metadata": {
    "kernelspec": {
      "name": "python",
      "language": "python",
      "display_name": "Pyolite (preview)"
    },
    "language_info": {
      "codemirror_mode": {
        "name": "python",
        "version": 3
      },
      "file_extension": ".py",
      "mimetype": "text/x-python",
      "name": "python",
      "nbconvert_exporter": "python",
      "pygments_lexer": "ipython3",
      "version": "3.8"
    },
    "nteract": {
      "version": "nteract-front-end@1.0.0"
    },
    "kernel_info": {
      "name": "python"
    }
  },
  "nbformat": 4,
  "nbformat_minor": 5
}