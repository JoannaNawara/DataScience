{
  "cells": [
    {
      "cell_type": "markdown",
      "source": [],
      "metadata": {
        "id": "q75VcrLF47Qm"
      },
      "id": "q75VcrLF47Qm"
    },
    {
      "cell_type": "markdown",
      "id": "08d72ca1",
      "metadata": {
        "deletable": false,
        "editable": false,
        "nbgrader": {
          "cell_type": "markdown",
          "checksum": "a4d572b9cb35f7417343f3db3cd5a898",
          "grade": false,
          "grade_id": "cell-fcd2666579131b77",
          "locked": true,
          "schema_version": 3,
          "solution": false,
          "task": false
        },
        "tags": [],
        "id": "08d72ca1"
      },
      "source": [
        "# Analiza danych przestrzennych - ćwiczenia laboratoryjne 2022/2023\n",
        "\n",
        "Ten notatnik zalicza się do grupy zestawów zadań, na podstawie których odbywa się zaliczenie ćwiczeń i podlega zwrotowi do oceny w ustalonym na zajęciach terminie.\n",
        "\n",
        "Uwagi ogólne:\n",
        "- Podczas wykonywania zadań należy korzystać wyłącznie z pakietów zaimportowanych na początku notatnika oraz z pakietów wchodzących w skład standardowej biblioteki Pythona, które można zaimportować samodzielnie we wskazanej komórce.\n",
        "- Swoje rozwiązania należy wprowadzać wyłącznie w miejce następujących fragmentów kodu:<br/> ` # YOUR CODE HERE`<br/> ` raise NotImplementedError()`<br/> Nie należy w żaden sposób modyfikować pozostałych fragmentów kodu oraz elementów notatnika, w szczególności dodawać lub usuwać komórek oraz zmieniać nazwy pliku.\n",
        "- Jeżeli zestaw zadań wymaga skorzystania z funkcji przygotowanych w ramach wcześniejszych zestawów zadań należy je umieścić we wskazanej komórce.\n",
        "- Wszystkie wykresy powinny być wykonane w jednolitym, przejrzystym i czytelnym stylu, mieć nadane tytuły, opisane osie oraz odpowiednio dobrany rozmiar, wielkość punktów i grubość linii. Proporcje osi wykresów przedstawiających rozkłady punktów powinny być dobrane tak, aby wykresy odzwierciedlały rzeczywisty rozkład punktów w przestrzeni.\n",
        "- Zadania, które powodują wyświetlenie komunikatu o błędzie przerywającym wykonywanie kodu nie podlegają ocenie.\n",
        "\n",
        "Przed odesłaniem zestawu zadań do oceny proszę uzupełnić komórkę z danymi autorów rozwiązania (`NAME` - nazwa grupy, `COLLABORATORS` - imiona, nazwiska i numery indeksów członków grupy) oraz upewnić się, że notatnik działa zgodnie z oczekiwaniami. W tym celu należy skorzystać z opcji **Restart Kernel and Run All Cells...** dostępnej na górnej belce notatnika pod symbolem $\\blacktriangleright\\blacktriangleright$. "
      ]
    },
    {
      "cell_type": "code",
      "execution_count": null,
      "id": "ed7d21d5",
      "metadata": {
        "id": "ed7d21d5"
      },
      "outputs": [],
      "source": [
        "COLLABORATORS = \"Nawara Joanna, Śliwa Karol, Kopeć Marta\""
      ]
    },
    {
      "cell_type": "markdown",
      "id": "1bd1bb1d",
      "metadata": {
        "deletable": false,
        "editable": false,
        "nbgrader": {
          "cell_type": "markdown",
          "checksum": "eddc8826810e4a6f7bf68319da334bd9",
          "grade": false,
          "grade_id": "cell-109006d425e5cf83",
          "locked": true,
          "schema_version": 3,
          "solution": false,
          "task": false
        },
        "tags": [],
        "id": "1bd1bb1d"
      },
      "source": [
        "---"
      ]
    },
    {
      "cell_type": "markdown",
      "id": "aba092c9-f275-48d9-b1a1-86f641e42f48",
      "metadata": {
        "deletable": false,
        "editable": false,
        "nbgrader": {
          "cell_type": "markdown",
          "checksum": "59a8239f61429d983493314302c1a0f8",
          "grade": false,
          "grade_id": "cell-1f33a09e5146ecbe",
          "locked": true,
          "schema_version": 3,
          "solution": false,
          "task": false
        },
        "tags": [],
        "id": "aba092c9-f275-48d9-b1a1-86f641e42f48"
      },
      "source": [
        "## Zestaw zadań 1: Generowanie procesów punktowych"
      ]
    },
    {
      "cell_type": "markdown",
      "source": [],
      "metadata": {
        "id": "FsclUR0z2mYw"
      },
      "id": "FsclUR0z2mYw"
    },
    {
      "cell_type": "code",
      "execution_count": null,
      "id": "df40896f-96d6-41b1-b2d4-6d544ca2f521",
      "metadata": {
        "deletable": false,
        "editable": false,
        "nbgrader": {
          "cell_type": "code",
          "checksum": "31642740d59cb98672cfd1ca55108013",
          "grade": false,
          "grade_id": "cell-ecd0d56207650fc3",
          "locked": true,
          "schema_version": 3,
          "solution": false,
          "task": false
        },
        "tags": [],
        "id": "df40896f-96d6-41b1-b2d4-6d544ca2f521"
      },
      "outputs": [],
      "source": [
        "import numpy as np\n",
        "import pandas as pd\n",
        "import scipy as sp\n",
        "import matplotlib as mpl\n",
        "import matplotlib.pyplot as plt\n",
        "import seaborn as sns"
      ]
    },
    {
      "cell_type": "code",
      "execution_count": null,
      "id": "d65fd5ca-3616-485c-b3d7-bbd2011ac19b",
      "metadata": {
        "tags": [],
        "id": "d65fd5ca-3616-485c-b3d7-bbd2011ac19b"
      },
      "outputs": [],
      "source": [
        "# Miejsce do importu pakietów wchodzących w skład standardowej biblioteki Pythona oraz ustawienie opcji wykorzystywanych pakietów\n",
        "sns.set() \n",
        "sns.set_theme(style=\"whitegrid\")"
      ]
    },
    {
      "cell_type": "markdown",
      "id": "89ba9f3e-03be-4bb7-826a-e5233122dd44",
      "metadata": {
        "deletable": false,
        "editable": false,
        "nbgrader": {
          "cell_type": "markdown",
          "checksum": "d68f32d5ca91e4ffe853589d729320d4",
          "grade": false,
          "grade_id": "cell-5ac08c9c8653766e",
          "locked": true,
          "schema_version": 3,
          "solution": false,
          "task": false
        },
        "tags": [],
        "id": "89ba9f3e-03be-4bb7-826a-e5233122dd44"
      },
      "source": [
        "### Zadanie 1: Proces regularny z komponentem losowym w obrębie prostokątnego obszaru [10 pkt]\n",
        "\n",
        "Przygotuj funkcję `regular_on_rectangle()`, która będzie generować proces regularny z komponentem losowym w obrębie prostokątnego obszaru.\n",
        "Następnie wykorzystaj przygotowaną funkcję do wygenerowania przykładowego rozkładu punktów i przedstaw go w postaci wykresu punktowego.\n",
        "\n",
        "Algorytm postępowania:\n",
        "1) Generujemy punkty na regularnej siatce tak, że poszczególne punkty są oddalone od siebie o odległość $d_x$ w poziomie i $d_y$ w pionie, a skrajne punkty są oddalone od krawędzi obszaru odpowiednio o $\\frac{1}{2} d_x$ w poziomie i $\\frac{1}{2}d_y$ w pionie.\n",
        "2) Do współrzędnych każdego z punktów dodajemy komponent losowy określony wzorem $r \\cdot rand$ , gdzie $r$ to parametr określający wielkość komponentu losowego, a $rand$ to wartość wylosowana z rozkładu jednostajnego na przedziale $[-\\frac{1}{2} d_x, \\frac{1}{2} d_x]$ w przypadku współrzędnej $x$ i na przedziale $[-\\frac{1}{2} d_y, \\frac{1}{2} d_y]$ w przypadku współrzędnej $y$.\n",
        "\n",
        "Parametry przykładowego rozkładu:\n",
        " - liczba punktów w poziomie: 20\n",
        " - liczba punktów w pionie: 10\n",
        " - wartość współczynnika określającego siłę komponentu losowego: 0.5\n",
        " - zakres wartości współrzędnej x: 0-20\n",
        " - zakres wartości współrzędnej y: 0-10\n"
      ]
    },
    {
      "cell_type": "markdown",
      "id": "6895ebf3-bed7-4fcc-bd82-94ec523b0d54",
      "metadata": {
        "deletable": false,
        "editable": false,
        "nbgrader": {
          "cell_type": "markdown",
          "checksum": "b16701a63f80a59e9608af708e69fa9b",
          "grade": false,
          "grade_id": "cell-685b3a56872881cc",
          "locked": true,
          "schema_version": 3,
          "solution": false,
          "task": false
        },
        "tags": [],
        "id": "6895ebf3-bed7-4fcc-bd82-94ec523b0d54"
      },
      "source": [
        "#### a) Przygotowanie funkcji"
      ]
    },
    {
      "cell_type": "code",
      "execution_count": null,
      "id": "62b794c4-2805-4d6c-8536-791e4c91b542",
      "metadata": {
        "deletable": false,
        "nbgrader": {
          "cell_type": "code",
          "checksum": "74704b4a852a982ddc7b5834ad696775",
          "grade": true,
          "grade_id": "cell-0b8ca172a3462f06",
          "locked": false,
          "points": 8,
          "schema_version": 3,
          "solution": true,
          "task": false
        },
        "tags": [],
        "id": "62b794c4-2805-4d6c-8536-791e4c91b542"
      },
      "outputs": [],
      "source": [
        "def regular_on_rectangle(grid, random_component, x_lim, y_lim):\n",
        "    \"\"\"\n",
        "    Parameters\n",
        "    -------\n",
        "    grid: list\n",
        "        Lista określająca liczbę punktów w pionie i poziomie.\n",
        "        Przykład: [10, 10]\n",
        "    random_component: float\n",
        "        Liczba z przedziału [0, 1] określająca wielkość komponentu losowego.\n",
        "    x_lim: list\n",
        "        Lista określająca zakres wartości współrzędnej X.\n",
        "        Przykład: [0, 10]\n",
        "    y_lim: list\n",
        "        Lista określająca zakres wartości współrzędnej Y.\n",
        "        Przykład: [0, 10]   \n",
        "\n",
        "    Returns\n",
        "    -------\n",
        "    points: DataFrame\n",
        "        Tablica zawierająca dwie kolumny ze współrzędnymi punktów opisane jako \"X\" i \"Y\".\n",
        "    \"\"\"\n",
        "    dx = (x_lim[1]-x_lim[0])/grid[0]\n",
        "    dy = (y_lim[1]-y_lim[0])/grid[1]\n",
        "    \n",
        "    x = np.arange(x_lim[0]+dx/2, x_lim[1], dx)\n",
        "    y = np.arange(y_lim[0]+dy/2, y_lim[1], dy)\n",
        "    \n",
        "    xx, yy = np.meshgrid(x, y)\n",
        "    \n",
        "    rx = np.random.uniform(-dx/2, dx/2, size = xx.shape[0]*xx.shape[1]) * random_component\n",
        "    ry = np.random.uniform(-dy/2, dy/2, size = yy.shape[0]*yy.shape[1]) * random_component\n",
        "    \n",
        "    new_x = xx.ravel() + rx\n",
        "    new_y = yy.ravel() + ry\n",
        "    \n",
        "    df = {'X' : new_x, 'Y' : new_y}\n",
        "    df = pd.DataFrame(df)\n",
        "    return df"
      ]
    },
    {
      "cell_type": "markdown",
      "id": "a6ad8eca-b451-4ac0-b6f8-54a9d2e333c8",
      "metadata": {
        "deletable": false,
        "editable": false,
        "nbgrader": {
          "cell_type": "markdown",
          "checksum": "47a672023cf23332ca31f0118185573a",
          "grade": false,
          "grade_id": "cell-ab531b0d3b299b73",
          "locked": true,
          "schema_version": 3,
          "solution": false,
          "task": false
        },
        "tags": [],
        "id": "a6ad8eca-b451-4ac0-b6f8-54a9d2e333c8"
      },
      "source": [
        "#### b) Wygenerowanie procesu"
      ]
    },
    {
      "cell_type": "code",
      "execution_count": null,
      "id": "c6787133-6eb2-48a0-a29c-c18413bd6765",
      "metadata": {
        "deletable": false,
        "nbgrader": {
          "cell_type": "code",
          "checksum": "a5dedba0d128bf18de308b54bcd804b4",
          "grade": true,
          "grade_id": "cell-aa18011258dbd99f",
          "locked": false,
          "points": 1,
          "schema_version": 3,
          "solution": true,
          "task": false
        },
        "tags": [],
        "colab": {
          "base_uri": "https://localhost:8080/",
          "height": 206
        },
        "id": "c6787133-6eb2-48a0-a29c-c18413bd6765",
        "outputId": "d4e3ecca-1b74-45fe-97bb-094548765353"
      },
      "outputs": [
        {
          "output_type": "execute_result",
          "data": {
            "text/plain": [
              "          X         Y\n",
              "0  0.591303  0.260010\n",
              "1  1.525643  0.735292\n",
              "2  2.385258  0.476928\n",
              "3  3.323076  0.373251\n",
              "4  4.396277  0.567602"
            ],
            "text/html": [
              "\n",
              "  <div id=\"df-df889e3f-9f72-42eb-8841-7d08a921fa9f\">\n",
              "    <div class=\"colab-df-container\">\n",
              "      <div>\n",
              "<style scoped>\n",
              "    .dataframe tbody tr th:only-of-type {\n",
              "        vertical-align: middle;\n",
              "    }\n",
              "\n",
              "    .dataframe tbody tr th {\n",
              "        vertical-align: top;\n",
              "    }\n",
              "\n",
              "    .dataframe thead th {\n",
              "        text-align: right;\n",
              "    }\n",
              "</style>\n",
              "<table border=\"1\" class=\"dataframe\">\n",
              "  <thead>\n",
              "    <tr style=\"text-align: right;\">\n",
              "      <th></th>\n",
              "      <th>X</th>\n",
              "      <th>Y</th>\n",
              "    </tr>\n",
              "  </thead>\n",
              "  <tbody>\n",
              "    <tr>\n",
              "      <th>0</th>\n",
              "      <td>0.591303</td>\n",
              "      <td>0.260010</td>\n",
              "    </tr>\n",
              "    <tr>\n",
              "      <th>1</th>\n",
              "      <td>1.525643</td>\n",
              "      <td>0.735292</td>\n",
              "    </tr>\n",
              "    <tr>\n",
              "      <th>2</th>\n",
              "      <td>2.385258</td>\n",
              "      <td>0.476928</td>\n",
              "    </tr>\n",
              "    <tr>\n",
              "      <th>3</th>\n",
              "      <td>3.323076</td>\n",
              "      <td>0.373251</td>\n",
              "    </tr>\n",
              "    <tr>\n",
              "      <th>4</th>\n",
              "      <td>4.396277</td>\n",
              "      <td>0.567602</td>\n",
              "    </tr>\n",
              "  </tbody>\n",
              "</table>\n",
              "</div>\n",
              "      <button class=\"colab-df-convert\" onclick=\"convertToInteractive('df-df889e3f-9f72-42eb-8841-7d08a921fa9f')\"\n",
              "              title=\"Convert this dataframe to an interactive table.\"\n",
              "              style=\"display:none;\">\n",
              "        \n",
              "  <svg xmlns=\"http://www.w3.org/2000/svg\" height=\"24px\"viewBox=\"0 0 24 24\"\n",
              "       width=\"24px\">\n",
              "    <path d=\"M0 0h24v24H0V0z\" fill=\"none\"/>\n",
              "    <path d=\"M18.56 5.44l.94 2.06.94-2.06 2.06-.94-2.06-.94-.94-2.06-.94 2.06-2.06.94zm-11 1L8.5 8.5l.94-2.06 2.06-.94-2.06-.94L8.5 2.5l-.94 2.06-2.06.94zm10 10l.94 2.06.94-2.06 2.06-.94-2.06-.94-.94-2.06-.94 2.06-2.06.94z\"/><path d=\"M17.41 7.96l-1.37-1.37c-.4-.4-.92-.59-1.43-.59-.52 0-1.04.2-1.43.59L10.3 9.45l-7.72 7.72c-.78.78-.78 2.05 0 2.83L4 21.41c.39.39.9.59 1.41.59.51 0 1.02-.2 1.41-.59l7.78-7.78 2.81-2.81c.8-.78.8-2.07 0-2.86zM5.41 20L4 18.59l7.72-7.72 1.47 1.35L5.41 20z\"/>\n",
              "  </svg>\n",
              "      </button>\n",
              "      \n",
              "  <style>\n",
              "    .colab-df-container {\n",
              "      display:flex;\n",
              "      flex-wrap:wrap;\n",
              "      gap: 12px;\n",
              "    }\n",
              "\n",
              "    .colab-df-convert {\n",
              "      background-color: #E8F0FE;\n",
              "      border: none;\n",
              "      border-radius: 50%;\n",
              "      cursor: pointer;\n",
              "      display: none;\n",
              "      fill: #1967D2;\n",
              "      height: 32px;\n",
              "      padding: 0 0 0 0;\n",
              "      width: 32px;\n",
              "    }\n",
              "\n",
              "    .colab-df-convert:hover {\n",
              "      background-color: #E2EBFA;\n",
              "      box-shadow: 0px 1px 2px rgba(60, 64, 67, 0.3), 0px 1px 3px 1px rgba(60, 64, 67, 0.15);\n",
              "      fill: #174EA6;\n",
              "    }\n",
              "\n",
              "    [theme=dark] .colab-df-convert {\n",
              "      background-color: #3B4455;\n",
              "      fill: #D2E3FC;\n",
              "    }\n",
              "\n",
              "    [theme=dark] .colab-df-convert:hover {\n",
              "      background-color: #434B5C;\n",
              "      box-shadow: 0px 1px 3px 1px rgba(0, 0, 0, 0.15);\n",
              "      filter: drop-shadow(0px 1px 2px rgba(0, 0, 0, 0.3));\n",
              "      fill: #FFFFFF;\n",
              "    }\n",
              "  </style>\n",
              "\n",
              "      <script>\n",
              "        const buttonEl =\n",
              "          document.querySelector('#df-df889e3f-9f72-42eb-8841-7d08a921fa9f button.colab-df-convert');\n",
              "        buttonEl.style.display =\n",
              "          google.colab.kernel.accessAllowed ? 'block' : 'none';\n",
              "\n",
              "        async function convertToInteractive(key) {\n",
              "          const element = document.querySelector('#df-df889e3f-9f72-42eb-8841-7d08a921fa9f');\n",
              "          const dataTable =\n",
              "            await google.colab.kernel.invokeFunction('convertToInteractive',\n",
              "                                                     [key], {});\n",
              "          if (!dataTable) return;\n",
              "\n",
              "          const docLinkHtml = 'Like what you see? Visit the ' +\n",
              "            '<a target=\"_blank\" href=https://colab.research.google.com/notebooks/data_table.ipynb>data table notebook</a>'\n",
              "            + ' to learn more about interactive tables.';\n",
              "          element.innerHTML = '';\n",
              "          dataTable['output_type'] = 'display_data';\n",
              "          await google.colab.output.renderOutput(dataTable, element);\n",
              "          const docLink = document.createElement('div');\n",
              "          docLink.innerHTML = docLinkHtml;\n",
              "          element.appendChild(docLink);\n",
              "        }\n",
              "      </script>\n",
              "    </div>\n",
              "  </div>\n",
              "  "
            ]
          },
          "metadata": {},
          "execution_count": 4
        }
      ],
      "source": [
        "df = regular_on_rectangle([20,10], 0.5, [0, 20], [0,10])\n",
        "df.head()"
      ]
    },
    {
      "cell_type": "markdown",
      "id": "a09647a4-8da5-43c4-88fe-0ba2eb86da1f",
      "metadata": {
        "deletable": false,
        "editable": false,
        "nbgrader": {
          "cell_type": "markdown",
          "checksum": "3ff759743f512b78f9c0ca8294627888",
          "grade": false,
          "grade_id": "cell-b6705a56e85ffb5d",
          "locked": true,
          "schema_version": 3,
          "solution": false,
          "task": false
        },
        "tags": [],
        "id": "a09647a4-8da5-43c4-88fe-0ba2eb86da1f"
      },
      "source": [
        "#### c) Wizualizacja"
      ]
    },
    {
      "cell_type": "code",
      "execution_count": null,
      "id": "7b957c8a-736c-4650-9ab1-25708ac2e093",
      "metadata": {
        "deletable": false,
        "nbgrader": {
          "cell_type": "code",
          "checksum": "68f0efd456f6e1b697238c7ad6807bd4",
          "grade": true,
          "grade_id": "cell-cdcecd5de1baaf3b",
          "locked": false,
          "points": 1,
          "schema_version": 3,
          "solution": true,
          "task": false
        },
        "tags": [],
        "colab": {
          "base_uri": "https://localhost:8080/",
          "height": 364
        },
        "id": "7b957c8a-736c-4650-9ab1-25708ac2e093",
        "outputId": "cb46e0b1-20a4-4a59-ec8f-c9ae488c630e"
      },
      "outputs": [
        {
          "output_type": "display_data",
          "data": {
            "text/plain": [
              "<Figure size 720x720 with 1 Axes>"
            ],
            "image/png": "[encoded data removed]"
          },
          "metadata": {}
        }
      ],
      "source": [
        "fig, ax = plt.subplots(1,1,figsize=(10,10))\n",
        "ax.plot(df.X, df.Y, marker='.', linestyle='none', color='red')\n",
        "ax.set_aspect(1)\n",
        "ax.set_xlim(0, 20)\n",
        "ax.set_ylim(0,10)\n",
        "ax.set_xlabel(\"X\")\n",
        "ax.set_ylabel(\"Y\")\n",
        "plt.title('Regular on rectangle', {'fontsize': 15})\n",
        "plt.show()"
      ]
    },
    {
      "cell_type": "markdown",
      "id": "2aaed549-7b8e-4da3-b15c-24c2c81978fd",
      "metadata": {
        "deletable": false,
        "editable": false,
        "nbgrader": {
          "cell_type": "markdown",
          "checksum": "79dc2496b3500150de5420cc6f210bed",
          "grade": false,
          "grade_id": "cell-0f09ad83fca941a4",
          "locked": true,
          "schema_version": 3,
          "solution": false,
          "task": false
        },
        "tags": [],
        "id": "2aaed549-7b8e-4da3-b15c-24c2c81978fd"
      },
      "source": [
        "### Zadanie 2: Jednorodny proces punktowy Poissona w obrębie prostokątnego obszaru [10 pkt]\n",
        "\n",
        "Przygotuj funkcję `homogeneous_poisson_on_rectangle()`, która będzie generować jednorodny proces punktowy Poissona w obrębie prostokątnego obszaru.\n",
        "Następnie wykorzystaj przygotowaną funkcję do wygenerowania przykładowego rozkładu punktów i przedstaw go w postaci wykresu punktowego.\n",
        "\n",
        "Algorytm postępowania:\n",
        "1. Losujemy liczbę punktów $n$ z rozkładu Poissona o wartości oczekiwanej równej $i \\cdot a$, gdzie $i$ to intensywność procesu, a $a$ jest powierzchnią obszaru, na którym generujemy punkty.\n",
        "2. Niezależnie od siebie losujemy wartości współrzędnych $n$ punktów z rozkładów jednostajnych na przedziałach określonych przez przyjęte zakresy wartości współrzędnych $x$ i $y$.\n",
        "\n",
        "Parametry przykładowego rozkładu:\n",
        " - intensywność procesu: 10\n",
        " - zakres wartości współrzędnej x: 0-20\n",
        " - zakres wartości współrzędnej y: 0-10"
      ]
    },
    {
      "cell_type": "markdown",
      "id": "dc9f18f8-e36e-4a70-be3d-f4a172530d1c",
      "metadata": {
        "deletable": false,
        "editable": false,
        "nbgrader": {
          "cell_type": "markdown",
          "checksum": "c5afeaafe0f8d07b89b74b6376cba023",
          "grade": false,
          "grade_id": "cell-d2741480a2c2ded0",
          "locked": true,
          "schema_version": 3,
          "solution": false,
          "task": false
        },
        "tags": [],
        "id": "dc9f18f8-e36e-4a70-be3d-f4a172530d1c"
      },
      "source": [
        "#### a) Przygotowanie funkcji"
      ]
    },
    {
      "cell_type": "code",
      "execution_count": null,
      "id": "c8ce4bb6-0fab-4423-b6ea-81778e4cbcba",
      "metadata": {
        "deletable": false,
        "nbgrader": {
          "cell_type": "code",
          "checksum": "b7b2d72f6bdd85b3af4f41a418b69977",
          "grade": true,
          "grade_id": "cell-496fc81b5caba229",
          "locked": false,
          "points": 8,
          "schema_version": 3,
          "solution": true,
          "task": false
        },
        "tags": [],
        "id": "c8ce4bb6-0fab-4423-b6ea-81778e4cbcba"
      },
      "outputs": [],
      "source": [
        "def homogeneous_poisson_on_rectangle(intensity, x_lim, y_lim):\n",
        "    \"\"\"\n",
        "    Parameters\n",
        "    -------\n",
        "    intensity: float\n",
        "        Liczba dodatnia określająca intensywność procesu punktowego.\n",
        "    x_lim: list\n",
        "        Lista określająca zakres wartości współrzędnej X.\n",
        "        Przykład: [0, 10]\n",
        "    y_lim: list\n",
        "        Lista określająca zakres wartości współrzędnej Y.\n",
        "        Przykład: [0, 10]   \n",
        "    \n",
        "    Returns\n",
        "    -------\n",
        "    points: DataFrame\n",
        "        Tablica zawierająca dwie kolumny ze współrzędnymi punktów opisane jako \"X\" i \"Y\".\n",
        "    \"\"\" \n",
        "    xDelta=x_lim[1]-x_lim[0];\n",
        "    yDelta=y_lim[1]-y_lim[0];\n",
        "    areaTotal=xDelta*yDelta;\n",
        "    \n",
        "    numbPoints = sp.stats.poisson( intensity*areaTotal ).rvs() \n",
        "    x = xDelta*sp.stats.uniform.rvs(0,1,(1, numbPoints))+x_lim[0]\n",
        "    y = yDelta*sp.stats.uniform.rvs(0,1,(1, numbPoints))+y_lim[0]\n",
        "    data={'X':x.ravel(), 'Y':y.ravel()}\n",
        "    return pd.DataFrame(data)"
      ]
    },
    {
      "cell_type": "markdown",
      "id": "86aaff13-56c2-4e59-a6cf-353e71552b91",
      "metadata": {
        "deletable": false,
        "editable": false,
        "nbgrader": {
          "cell_type": "markdown",
          "checksum": "6350ec97fe656a0d804a1446250096fe",
          "grade": false,
          "grade_id": "cell-22839468931c2116",
          "locked": true,
          "schema_version": 3,
          "solution": false,
          "task": false
        },
        "tags": [],
        "id": "86aaff13-56c2-4e59-a6cf-353e71552b91"
      },
      "source": [
        "#### b) Wygenerowanie procesu"
      ]
    },
    {
      "cell_type": "code",
      "execution_count": null,
      "id": "7afb85af-f1b0-4763-ab5f-7e8987c623b1",
      "metadata": {
        "deletable": false,
        "nbgrader": {
          "cell_type": "code",
          "checksum": "7db7727dab9264ae2d29f44d527ec95f",
          "grade": true,
          "grade_id": "cell-e6a2872b97d7c853",
          "locked": false,
          "points": 1,
          "schema_version": 3,
          "solution": true,
          "task": false
        },
        "tags": [],
        "id": "7afb85af-f1b0-4763-ab5f-7e8987c623b1"
      },
      "outputs": [],
      "source": [
        "df = homogeneous_poisson_on_rectangle(10, [0,20], [0,10])"
      ]
    },
    {
      "cell_type": "markdown",
      "id": "305a63cb-4a88-4136-aecd-6398a6b8404f",
      "metadata": {
        "deletable": false,
        "editable": false,
        "nbgrader": {
          "cell_type": "markdown",
          "checksum": "73ebe71dbe76a19acc0e338875563b36",
          "grade": false,
          "grade_id": "cell-ad676a567d7e759e",
          "locked": true,
          "schema_version": 3,
          "solution": false,
          "task": false
        },
        "tags": [],
        "id": "305a63cb-4a88-4136-aecd-6398a6b8404f"
      },
      "source": [
        "#### c) Wizualizacja"
      ]
    },
    {
      "cell_type": "code",
      "execution_count": null,
      "id": "b6b20b13-3c10-4576-a4a1-1f2c45e8eaaf",
      "metadata": {
        "deletable": false,
        "nbgrader": {
          "cell_type": "code",
          "checksum": "3e67d3a00057b731bae8f25265c598cb",
          "grade": true,
          "grade_id": "cell-720584fea7bd395c",
          "locked": false,
          "points": 1,
          "schema_version": 3,
          "solution": true,
          "task": false
        },
        "tags": [],
        "id": "b6b20b13-3c10-4576-a4a1-1f2c45e8eaaf",
        "outputId": "3d6a3f7e-7fbf-4b25-da35-f9fa3a8083f1",
        "colab": {
          "base_uri": "https://localhost:8080/",
          "height": 364
        }
      },
      "outputs": [
        {
          "output_type": "display_data",
          "data": {
            "text/plain": [
              "<Figure size 720x720 with 1 Axes>"
            ],
            "image/png": "[encoded data removed]"
          },
          "metadata": {}
        }
      ],
      "source": [
        "fig, ax = plt.subplots(1,1,figsize=(10,10))\n",
        "ax.plot(df.X, df.Y, marker='.', color='k', linestyle='none')\n",
        "ax.set_aspect(1)\n",
        "ax.set_xlim(0, 20)\n",
        "ax.set_ylim(0, 10)\n",
        "ax.set_xlabel(\"X\")\n",
        "ax.set_ylabel(\"Y\")\n",
        "plt.title('Homogeneous poisson on rectangle', {'fontsize': 15})\n",
        "plt.show()"
      ]
    },
    {
      "cell_type": "markdown",
      "id": "8ca3c355-c5f0-40a3-b739-de4af83527b0",
      "metadata": {
        "deletable": false,
        "editable": false,
        "nbgrader": {
          "cell_type": "markdown",
          "checksum": "d3a9dae55d42c67410d446085a579eb9",
          "grade": false,
          "grade_id": "cell-bffdfc71573b0f75",
          "locked": true,
          "schema_version": 3,
          "solution": false,
          "task": false
        },
        "tags": [],
        "id": "8ca3c355-c5f0-40a3-b739-de4af83527b0"
      },
      "source": [
        "### Zadanie 3: Niejednorodny proces punktowy Poissona w obrębie prostokątnego obszaru [10 pkt]\n",
        "\n",
        "Przygotuj funkcję `unhomogeneous_poisson_on_rectangle()`, która będzie generować niejednorodny proces punktowy Poissona w obrębie prostokątnego obszaru.\n",
        "Następnie wykorzystaj przygotowaną funkcję do wygenerowania przykładowego rozkładu punktów i przedstaw go w postaci wykresu punktowego.\n",
        "\n",
        "Algorytm postępowania:\n",
        "1. Generujemy punkty z wykorzystaniem jednorodnego procesu Poissona przyjmując intensywność procesu równą maksymalnej wartości jaką osiąga funkcja intensywności w analizowanym obszarze.\n",
        "2. Przerzedzamy rozkład usuwając z niego punkty z prawdopodobieństwem równym $1-\\frac{i}{i_{max}}$, gdzie $i$ to wartość jaką przyjmuje funkcja intensywności dla współrzędnych danego punktu, a $i_{max}$ to maksymalna wartość jaką funkcja intensywności osiąga w granicach analizowanego obszaru.\n",
        "\n",
        "Parametry przykładowego rozkładu:\n",
        " - intensywność procesu: f(x, y) = x\n",
        " - zakres wartości współrzędnej x: 0-20\n",
        " - zakres wartości współrzędnej y: 0-10"
      ]
    },
    {
      "cell_type": "markdown",
      "id": "6ea79775-19e7-4e7e-9c57-6cdc8efbe6b3",
      "metadata": {
        "deletable": false,
        "editable": false,
        "nbgrader": {
          "cell_type": "markdown",
          "checksum": "0858217a5530df9495298b5df392c3d4",
          "grade": false,
          "grade_id": "cell-60659f7573afdcd7",
          "locked": true,
          "schema_version": 3,
          "solution": false,
          "task": false
        },
        "tags": [],
        "id": "6ea79775-19e7-4e7e-9c57-6cdc8efbe6b3"
      },
      "source": [
        "#### a) Przygotowanie funkcji"
      ]
    },
    {
      "cell_type": "code",
      "execution_count": null,
      "id": "347cce1f-b6dd-49bc-8437-c77583c87e6a",
      "metadata": {
        "deletable": false,
        "nbgrader": {
          "cell_type": "code",
          "checksum": "cca76ebae5bc20516fcf8e454838eaa1",
          "grade": true,
          "grade_id": "cell-4258d05645de2b5e",
          "locked": false,
          "points": 8,
          "schema_version": 3,
          "solution": true,
          "task": false
        },
        "tags": [],
        "id": "347cce1f-b6dd-49bc-8437-c77583c87e6a"
      },
      "outputs": [],
      "source": [
        "def unhomogeneous_poisson_on_rectangle(intensity_function, x_lim, y_lim):\n",
        "    \"\"\"\n",
        "    Parameters\n",
        "    -------\n",
        "    intensity_function: function\n",
        "        Funkcja przyjmująca dwa argumenty (macierz 1D współrzędnych X i macierz 1D współrzędnych Y) i zwracająca macierz 1D\n",
        "        z wartościami funkcji opisującej intensywność procesu dla tych współrzędnych.\n",
        "    x_lim: list\n",
        "        Lista określająca zakres wartości współrzędnej X.\n",
        "        Przykład: [0, 10]\n",
        "    y_lim: list\n",
        "        Lista określająca zakres wartości współrzędnej Y.\n",
        "        Przykład: [0, 10] \n",
        "    \n",
        "    Returns\n",
        "    -------\n",
        "    points: DataFrame\n",
        "        Tablica zawierająca dwie kolumny ze współrzędnymi punktów opisane jako \"X\" i \"Y\".\n",
        "    \"\"\"    \n",
        "    xMin=x_lim[0];xMax=x_lim[1]; #parametry pomocnicze do uzycia\n",
        "    yMin=y_lim[0];yMax=y_lim[1];\n",
        "    xDelta=xMax-xMin;\n",
        "    yDelta=yMax-yMin;\n",
        "    areaTotal=xDelta*yDelta;\n",
        "\n",
        "    #szukanie maximum\n",
        "    def fun_Neg_intensity(x):\n",
        "        return -intensity_function(x[0],x[1]); #-f. intensity -> bo bedziemy szukac minimum zamiast maximum\n",
        "\n",
        "    xy0=[(xMin+xMax)/2,(yMin+yMax)/2]; #poczatkowa wartosc - srodek\n",
        "    \n",
        "    #max intensity\n",
        "    minimizeRes=sp.optimize.minimize(fun_Neg_intensity, xy0, bounds=((xMin, xMax), (yMin, yMax)));\n",
        "    intensityNegMin=minimizeRes.fun; #minimum z funkcji minimize\n",
        "    intensityMax=-intensityNegMin; #minimum\n",
        "\n",
        "    #jednorodny poisson\n",
        "    numbPoints = np.random.poisson(intensityMax*areaTotal);#ile punktow\n",
        "    xx = np.random.uniform(0,xDelta,((numbPoints,1)))+xMin;\n",
        "    yy = np.random.uniform(0,yDelta,((numbPoints,1)))+yMin;\n",
        "    \n",
        "    \n",
        "    #x,y i przerzedzanie  \n",
        "    p=intensity_function(xx,yy)/intensityMax; #i_punktu/i_max\n",
        "    thinnedPoints=np.random.uniform(0,1,((numbPoints,1)))<p;\n",
        "\n",
        "    #x i y ktore zatrzymujemy\n",
        "    xx=xx[thinnedPoints]; \n",
        "    yy=yy[thinnedPoints];\n",
        "    data={'X':xx.ravel(), 'Y':yy.ravel()}\n",
        "    return pd.DataFrame(data);\n",
        "    "
      ]
    },
    {
      "cell_type": "markdown",
      "id": "3ad1a551-73f5-4d78-912c-be6d36074a99",
      "metadata": {
        "deletable": false,
        "editable": false,
        "nbgrader": {
          "cell_type": "markdown",
          "checksum": "e6be31b4b3d337bd613ac190d0d7f65a",
          "grade": false,
          "grade_id": "cell-a0c22e157684d027",
          "locked": true,
          "schema_version": 3,
          "solution": false,
          "task": false
        },
        "tags": [],
        "id": "3ad1a551-73f5-4d78-912c-be6d36074a99"
      },
      "source": [
        "#### b) Wygenerowanie procesu"
      ]
    },
    {
      "cell_type": "code",
      "execution_count": null,
      "id": "c22a456c-f54f-43d0-af79-2b09d2247ac4",
      "metadata": {
        "deletable": false,
        "nbgrader": {
          "cell_type": "code",
          "checksum": "87549909bd498de7886f60995298b295",
          "grade": true,
          "grade_id": "cell-c984d0592d7e762f",
          "locked": false,
          "points": 1,
          "schema_version": 3,
          "solution": true,
          "task": false
        },
        "tags": [],
        "id": "c22a456c-f54f-43d0-af79-2b09d2247ac4",
        "colab": {
          "base_uri": "https://localhost:8080/",
          "height": 206
        },
        "outputId": "b67b9e57-fb31-433d-d731-ef2d580afea3"
      },
      "outputs": [
        {
          "output_type": "execute_result",
          "data": {
            "text/plain": [
              "           X         Y\n",
              "0  18.519618  2.054454\n",
              "1  18.644716  7.222240\n",
              "2   1.549219  4.566229\n",
              "3  15.578453  8.237613\n",
              "4  19.713085  8.342913"
            ],
            "text/html": [
              "\n",
              "  <div id=\"df-ed20db7d-67b9-4da8-b98d-8c569f4163c0\">\n",
              "    <div class=\"colab-df-container\">\n",
              "      <div>\n",
              "<style scoped>\n",
              "    .dataframe tbody tr th:only-of-type {\n",
              "        vertical-align: middle;\n",
              "    }\n",
              "\n",
              "    .dataframe tbody tr th {\n",
              "        vertical-align: top;\n",
              "    }\n",
              "\n",
              "    .dataframe thead th {\n",
              "        text-align: right;\n",
              "    }\n",
              "</style>\n",
              "<table border=\"1\" class=\"dataframe\">\n",
              "  <thead>\n",
              "    <tr style=\"text-align: right;\">\n",
              "      <th></th>\n",
              "      <th>X</th>\n",
              "      <th>Y</th>\n",
              "    </tr>\n",
              "  </thead>\n",
              "  <tbody>\n",
              "    <tr>\n",
              "      <th>0</th>\n",
              "      <td>18.519618</td>\n",
              "      <td>2.054454</td>\n",
              "    </tr>\n",
              "    <tr>\n",
              "      <th>1</th>\n",
              "      <td>18.644716</td>\n",
              "      <td>7.222240</td>\n",
              "    </tr>\n",
              "    <tr>\n",
              "      <th>2</th>\n",
              "      <td>1.549219</td>\n",
              "      <td>4.566229</td>\n",
              "    </tr>\n",
              "    <tr>\n",
              "      <th>3</th>\n",
              "      <td>15.578453</td>\n",
              "      <td>8.237613</td>\n",
              "    </tr>\n",
              "    <tr>\n",
              "      <th>4</th>\n",
              "      <td>19.713085</td>\n",
              "      <td>8.342913</td>\n",
              "    </tr>\n",
              "  </tbody>\n",
              "</table>\n",
              "</div>\n",
              "      <button class=\"colab-df-convert\" onclick=\"convertToInteractive('df-ed20db7d-67b9-4da8-b98d-8c569f4163c0')\"\n",
              "              title=\"Convert this dataframe to an interactive table.\"\n",
              "              style=\"display:none;\">\n",
              "        \n",
              "  <svg xmlns=\"http://www.w3.org/2000/svg\" height=\"24px\"viewBox=\"0 0 24 24\"\n",
              "       width=\"24px\">\n",
              "    <path d=\"M0 0h24v24H0V0z\" fill=\"none\"/>\n",
              "    <path d=\"M18.56 5.44l.94 2.06.94-2.06 2.06-.94-2.06-.94-.94-2.06-.94 2.06-2.06.94zm-11 1L8.5 8.5l.94-2.06 2.06-.94-2.06-.94L8.5 2.5l-.94 2.06-2.06.94zm10 10l.94 2.06.94-2.06 2.06-.94-2.06-.94-.94-2.06-.94 2.06-2.06.94z\"/><path d=\"M17.41 7.96l-1.37-1.37c-.4-.4-.92-.59-1.43-.59-.52 0-1.04.2-1.43.59L10.3 9.45l-7.72 7.72c-.78.78-.78 2.05 0 2.83L4 21.41c.39.39.9.59 1.41.59.51 0 1.02-.2 1.41-.59l7.78-7.78 2.81-2.81c.8-.78.8-2.07 0-2.86zM5.41 20L4 18.59l7.72-7.72 1.47 1.35L5.41 20z\"/>\n",
              "  </svg>\n",
              "      </button>\n",
              "      \n",
              "  <style>\n",
              "    .colab-df-container {\n",
              "      display:flex;\n",
              "      flex-wrap:wrap;\n",
              "      gap: 12px;\n",
              "    }\n",
              "\n",
              "    .colab-df-convert {\n",
              "      background-color: #E8F0FE;\n",
              "      border: none;\n",
              "      border-radius: 50%;\n",
              "      cursor: pointer;\n",
              "      display: none;\n",
              "      fill: #1967D2;\n",
              "      height: 32px;\n",
              "      padding: 0 0 0 0;\n",
              "      width: 32px;\n",
              "    }\n",
              "\n",
              "    .colab-df-convert:hover {\n",
              "      background-color: #E2EBFA;\n",
              "      box-shadow: 0px 1px 2px rgba(60, 64, 67, 0.3), 0px 1px 3px 1px rgba(60, 64, 67, 0.15);\n",
              "      fill: #174EA6;\n",
              "    }\n",
              "\n",
              "    [theme=dark] .colab-df-convert {\n",
              "      background-color: #3B4455;\n",
              "      fill: #D2E3FC;\n",
              "    }\n",
              "\n",
              "    [theme=dark] .colab-df-convert:hover {\n",
              "      background-color: #434B5C;\n",
              "      box-shadow: 0px 1px 3px 1px rgba(0, 0, 0, 0.15);\n",
              "      filter: drop-shadow(0px 1px 2px rgba(0, 0, 0, 0.3));\n",
              "      fill: #FFFFFF;\n",
              "    }\n",
              "  </style>\n",
              "\n",
              "      <script>\n",
              "        const buttonEl =\n",
              "          document.querySelector('#df-ed20db7d-67b9-4da8-b98d-8c569f4163c0 button.colab-df-convert');\n",
              "        buttonEl.style.display =\n",
              "          google.colab.kernel.accessAllowed ? 'block' : 'none';\n",
              "\n",
              "        async function convertToInteractive(key) {\n",
              "          const element = document.querySelector('#df-ed20db7d-67b9-4da8-b98d-8c569f4163c0');\n",
              "          const dataTable =\n",
              "            await google.colab.kernel.invokeFunction('convertToInteractive',\n",
              "                                                     [key], {});\n",
              "          if (!dataTable) return;\n",
              "\n",
              "          const docLinkHtml = 'Like what you see? Visit the ' +\n",
              "            '<a target=\"_blank\" href=https://colab.research.google.com/notebooks/data_table.ipynb>data table notebook</a>'\n",
              "            + ' to learn more about interactive tables.';\n",
              "          element.innerHTML = '';\n",
              "          dataTable['output_type'] = 'display_data';\n",
              "          await google.colab.output.renderOutput(dataTable, element);\n",
              "          const docLink = document.createElement('div');\n",
              "          docLink.innerHTML = docLinkHtml;\n",
              "          element.appendChild(docLink);\n",
              "        }\n",
              "      </script>\n",
              "    </div>\n",
              "  </div>\n",
              "  "
            ]
          },
          "metadata": {},
          "execution_count": 10
        }
      ],
      "source": [
        "def intensity_function (X,Y):\n",
        "    #return X**(1/2)+Y**2;\n",
        "    return X\n",
        "\n",
        "df=unhomogeneous_poisson_on_rectangle(intensity_function, [0,20], [0,10])\n",
        "df.head()"
      ]
    },
    {
      "cell_type": "markdown",
      "id": "937dab80-d383-494f-98df-834960c0cd11",
      "metadata": {
        "deletable": false,
        "editable": false,
        "nbgrader": {
          "cell_type": "markdown",
          "checksum": "95efa1ca12acc41204123b9e6aac964f",
          "grade": false,
          "grade_id": "cell-6ad91947ac3ee885",
          "locked": true,
          "schema_version": 3,
          "solution": false,
          "task": false
        },
        "tags": [],
        "id": "937dab80-d383-494f-98df-834960c0cd11"
      },
      "source": [
        "#### c) Wizualizacja"
      ]
    },
    {
      "cell_type": "code",
      "execution_count": null,
      "id": "d4e30a73-751e-4218-906a-be83bca81043",
      "metadata": {
        "deletable": false,
        "nbgrader": {
          "cell_type": "code",
          "checksum": "82cae4609a31b97d1bb594db5c1d6239",
          "grade": true,
          "grade_id": "cell-3b2e16df836b7a03",
          "locked": false,
          "points": 1,
          "schema_version": 3,
          "solution": true,
          "task": false
        },
        "tags": [],
        "id": "d4e30a73-751e-4218-906a-be83bca81043",
        "colab": {
          "base_uri": "https://localhost:8080/",
          "height": 364
        },
        "outputId": "5a8460eb-30e5-448c-e9bd-660076be9e7d"
      },
      "outputs": [
        {
          "output_type": "display_data",
          "data": {
            "text/plain": [
              "<Figure size 720x720 with 1 Axes>"
            ],
            "image/png": "[encoded data removed]"
          },
          "metadata": {}
        }
      ],
      "source": [
        "fig, ax = plt.subplots(1,1,figsize=(10,10))\n",
        "ax.plot(df.X, df.Y, marker='.', color='k', linestyle='none')\n",
        "ax.set_aspect(1)\n",
        "ax.set_xlim(0, 20)\n",
        "ax.set_ylim(0, 10)\n",
        "ax.set_xlabel(\"X\")\n",
        "ax.set_ylabel(\"Y\")\n",
        "plt.title('Unhomogeneous poisson on rectangle', {'fontsize': 15})\n",
        "plt.show()"
      ]
    },
    {
      "cell_type": "markdown",
      "id": "230a135c-32cd-4298-bc5a-882bf85e349f",
      "metadata": {
        "deletable": false,
        "editable": false,
        "nbgrader": {
          "cell_type": "markdown",
          "checksum": "0fb6258d7e3434b70a32ffbadfa2ef15",
          "grade": false,
          "grade_id": "cell-4237381444233047",
          "locked": true,
          "schema_version": 3,
          "solution": false,
          "task": false
        },
        "tags": [],
        "id": "230a135c-32cd-4298-bc5a-882bf85e349f"
      },
      "source": [
        "### Zadanie 4: Proces punktowy Matérna w obrębie prostokątnego obszaru [10 pkt]\n",
        "\n",
        "Przygotuj funkcję `materna_on_rectangle()`, która będzie generować proces punktowy Materna w obrębie prostokątnego obszaru.\n",
        "Następnie wykorzystaj przygotowaną funkcję do wygenerowania przykładowego rozkładu punktów i przedstaw go w postaci wykresu punktowego.\n",
        "\n",
        "Algorytm postępowania:\n",
        "1. Rozszerzamy analizowany obszar o bufor równy wartości parametru `cluster_radius`.\n",
        "2. W obrębie rozszerzonego obszaru generujemy punkty w wykorzystaniem jednorodnego procesu Poissona o intensywności równej wartości parametru `parent_intensity`.\n",
        "3. Wokół każdego z wygenerowanych punktów (okrąg o promieniu równym wartości parametru `cluster_radius`) generujemy punkty z wykorzystaniem jednorodnego procesu Poissona o intensywności równej wartości parametru `daughter_intensity`.\n",
        "4. Usuwamy z rozkładu wszystkie punkty leżące poza analizowanym (nierozszerzonym) obszarem.\n",
        "\n",
        "Uwaga! Punkty wygenerowane w ramach procesu macierzystego (centra klastrów) nie są częścią wynikowego rozkładu punktów.\n",
        "\n",
        "Parametry przykładowego rozkładu:\n",
        " - intensywność procesu macierzystego: 0.2\n",
        " - intensywność procesu potomnego: 10\n",
        " - promień klastra: 1\n",
        " - zakres wartości współrzędnej x: 0-20\n",
        " - zakres wartości współrzędnej y: 0-10"
      ]
    },
    {
      "cell_type": "markdown",
      "id": "c37a9c58-8a74-424e-b41d-ed5d89aba6f5",
      "metadata": {
        "deletable": false,
        "editable": false,
        "nbgrader": {
          "cell_type": "markdown",
          "checksum": "cc5aeae4babeafb04389de03a3eca7d0",
          "grade": false,
          "grade_id": "cell-5e37ba7995b5a887",
          "locked": true,
          "schema_version": 3,
          "solution": false,
          "task": false
        },
        "tags": [],
        "id": "c37a9c58-8a74-424e-b41d-ed5d89aba6f5"
      },
      "source": [
        "#### a) Przygotowanie funkcji"
      ]
    },
    {
      "cell_type": "code",
      "execution_count": null,
      "id": "14401c56-c4c0-4a1e-98b4-57225c17eb2a",
      "metadata": {
        "deletable": false,
        "nbgrader": {
          "cell_type": "code",
          "checksum": "7137c3ac996fb65207a35e62cde99cd7",
          "grade": true,
          "grade_id": "cell-37508c39f24a0801",
          "locked": false,
          "points": 8,
          "schema_version": 3,
          "solution": true,
          "task": false
        },
        "tags": [],
        "id": "14401c56-c4c0-4a1e-98b4-57225c17eb2a"
      },
      "outputs": [],
      "source": [
        "def materna_on_rectangle(parent_intensity, daughter_intensity, cluster_radius, x_lim, y_lim):\n",
        "    \"\"\"\n",
        "    Parameters\n",
        "    -------\n",
        "    parent_intensity: float\n",
        "        Liczba dodatnia określająca intensywność macierzystego procesu punktowego.\n",
        "    daughter_intensity: float\n",
        "        Liczba dodatnia określająca intensywność potomnego procesu punktowego.\n",
        "    cluster_radius: float\n",
        "        Liczba dodatnia określająca promień generowanych klastrów.\n",
        "    x_lim: list\n",
        "        Lista określająca zakres wartości współrzędnej X.\n",
        "        Przykład: [0, 10]\n",
        "    y_lim: list\n",
        "        Lista określająca zakres wartości współrzędnej Y.\n",
        "        Przykład: [0, 10]   \n",
        "    \n",
        "    Returns\n",
        "    -------\n",
        "    points: DataFrame\n",
        "        Tablica zawierająca dwie kolumny ze współrzędnymi punktów opisane jako \"X\" i \"Y\".\n",
        "    \"\"\"\n",
        "    \n",
        "    # Extended simulation windows parameters\n",
        "    x_lim_new = [x_lim[0]-cluster_radius, x_lim[1]+cluster_radius]\n",
        "    y_lim_new = [y_lim[0]-cluster_radius, y_lim[1]+cluster_radius]\n",
        "    \n",
        "    # Simulate Poisson point process for the parents\n",
        "    parent_points =  homogeneous_poisson_on_rectangle(parent_intensity, x_lim_new, y_lim_new)\n",
        "    num_parent = len(parent_points)\n",
        "    \n",
        "    # Number of daughters points per cluster\n",
        "    circle_area = np.pi*cluster_radius**2\n",
        "    num_daughter = sp.stats.poisson( daughter_intensity*circle_area ).rvs()\n",
        "    \n",
        "    total_number = num_parent * num_daughter\n",
        "    \n",
        "    # Generate polar variables\n",
        "    r = cluster_radius * np.sqrt(np.random.uniform(0, 1, total_number));\n",
        "    angle = 2 * np.pi * np.random.uniform(0, 1, total_number);\n",
        "    \n",
        "    # Convert from polar to Cartesian coordinates\n",
        "    daughter_x = r * np.cos(angle)\n",
        "    daughter_y = r * np.sin(angle)\n",
        "    \n",
        "    # Replicate parents\n",
        "    parent_x = np.repeat(parent_points.X, num_daughter)\n",
        "    parent_y = np.repeat(parent_points.Y, num_daughter)\n",
        "    \n",
        "    # Translate points\n",
        "    new_x = parent_x + daughter_x\n",
        "    new_y = parent_y + daughter_y\n",
        "    \n",
        "    # Accept points inside the simulation window\n",
        "    insideWindow = ((new_x >= x_lim[0]) & (new_x <= x_lim[1]) & (new_y >= y_lim[0]) & (new_y <= y_lim[1]))\n",
        "    new_x = new_x[insideWindow]\n",
        "    new_x.reset_index(inplace=True, drop=True)\n",
        "    new_y = new_y[insideWindow]\n",
        "    new_y.reset_index(inplace=True, drop=True)\n",
        "    \n",
        "    # Pass data to the DataFrame\n",
        "    data = {'X': new_x, 'Y': new_y}\n",
        "    data = pd.DataFrame(data)\n",
        "    \n",
        "    return data\n",
        "    "
      ]
    },
    {
      "cell_type": "markdown",
      "id": "83c2e40b-d5a9-4f67-ae1b-4ec922640651",
      "metadata": {
        "deletable": false,
        "editable": false,
        "nbgrader": {
          "cell_type": "markdown",
          "checksum": "0be2348b2488a610421ec91812d62dbc",
          "grade": false,
          "grade_id": "cell-fcf75d96fb89b7d6",
          "locked": true,
          "schema_version": 3,
          "solution": false,
          "task": false
        },
        "tags": [],
        "id": "83c2e40b-d5a9-4f67-ae1b-4ec922640651"
      },
      "source": [
        "#### b) Wygenerowanie procesu"
      ]
    },
    {
      "cell_type": "code",
      "execution_count": null,
      "id": "ce5c3076-c892-426f-9737-843b18547e0d",
      "metadata": {
        "deletable": false,
        "nbgrader": {
          "cell_type": "code",
          "checksum": "dd0a9acec0c4a120862ba2163a4cd0af",
          "grade": true,
          "grade_id": "cell-e238abba88319235",
          "locked": false,
          "points": 1,
          "schema_version": 3,
          "solution": true,
          "task": false
        },
        "tags": [],
        "id": "ce5c3076-c892-426f-9737-843b18547e0d",
        "colab": {
          "base_uri": "https://localhost:8080/",
          "height": 424
        },
        "outputId": "51344cc1-64f9-4ba5-a882-56788e10c9b4"
      },
      "outputs": [
        {
          "output_type": "execute_result",
          "data": {
            "text/plain": [
              "              X         Y\n",
              "0      0.540949  3.246322\n",
              "1      0.497324  2.765419\n",
              "2      0.655448  4.163908\n",
              "3      0.318545  3.769250\n",
              "4      1.060210  3.408855\n",
              "...         ...       ...\n",
              "1238  15.253428  6.352158\n",
              "1239  16.095186  6.611107\n",
              "1240  16.078136  6.464845\n",
              "1241  15.695401  6.197609\n",
              "1242  15.547925  7.627611\n",
              "\n",
              "[1243 rows x 2 columns]"
            ],
            "text/html": [
              "\n",
              "  <div id=\"df-cae2feff-31d9-4169-93b6-b4c43d5b1c7b\">\n",
              "    <div class=\"colab-df-container\">\n",
              "      <div>\n",
              "<style scoped>\n",
              "    .dataframe tbody tr th:only-of-type {\n",
              "        vertical-align: middle;\n",
              "    }\n",
              "\n",
              "    .dataframe tbody tr th {\n",
              "        vertical-align: top;\n",
              "    }\n",
              "\n",
              "    .dataframe thead th {\n",
              "        text-align: right;\n",
              "    }\n",
              "</style>\n",
              "<table border=\"1\" class=\"dataframe\">\n",
              "  <thead>\n",
              "    <tr style=\"text-align: right;\">\n",
              "      <th></th>\n",
              "      <th>X</th>\n",
              "      <th>Y</th>\n",
              "    </tr>\n",
              "  </thead>\n",
              "  <tbody>\n",
              "    <tr>\n",
              "      <th>0</th>\n",
              "      <td>0.540949</td>\n",
              "      <td>3.246322</td>\n",
              "    </tr>\n",
              "    <tr>\n",
              "      <th>1</th>\n",
              "      <td>0.497324</td>\n",
              "      <td>2.765419</td>\n",
              "    </tr>\n",
              "    <tr>\n",
              "      <th>2</th>\n",
              "      <td>0.655448</td>\n",
              "      <td>4.163908</td>\n",
              "    </tr>\n",
              "    <tr>\n",
              "      <th>3</th>\n",
              "      <td>0.318545</td>\n",
              "      <td>3.769250</td>\n",
              "    </tr>\n",
              "    <tr>\n",
              "      <th>4</th>\n",
              "      <td>1.060210</td>\n",
              "      <td>3.408855</td>\n",
              "    </tr>\n",
              "    <tr>\n",
              "      <th>...</th>\n",
              "      <td>...</td>\n",
              "      <td>...</td>\n",
              "    </tr>\n",
              "    <tr>\n",
              "      <th>1238</th>\n",
              "      <td>15.253428</td>\n",
              "      <td>6.352158</td>\n",
              "    </tr>\n",
              "    <tr>\n",
              "      <th>1239</th>\n",
              "      <td>16.095186</td>\n",
              "      <td>6.611107</td>\n",
              "    </tr>\n",
              "    <tr>\n",
              "      <th>1240</th>\n",
              "      <td>16.078136</td>\n",
              "      <td>6.464845</td>\n",
              "    </tr>\n",
              "    <tr>\n",
              "      <th>1241</th>\n",
              "      <td>15.695401</td>\n",
              "      <td>6.197609</td>\n",
              "    </tr>\n",
              "    <tr>\n",
              "      <th>1242</th>\n",
              "      <td>15.547925</td>\n",
              "      <td>7.627611</td>\n",
              "    </tr>\n",
              "  </tbody>\n",
              "</table>\n",
              "<p>1243 rows × 2 columns</p>\n",
              "</div>\n",
              "      <button class=\"colab-df-convert\" onclick=\"convertToInteractive('df-cae2feff-31d9-4169-93b6-b4c43d5b1c7b')\"\n",
              "              title=\"Convert this dataframe to an interactive table.\"\n",
              "              style=\"display:none;\">\n",
              "        \n",
              "  <svg xmlns=\"http://www.w3.org/2000/svg\" height=\"24px\"viewBox=\"0 0 24 24\"\n",
              "       width=\"24px\">\n",
              "    <path d=\"M0 0h24v24H0V0z\" fill=\"none\"/>\n",
              "    <path d=\"M18.56 5.44l.94 2.06.94-2.06 2.06-.94-2.06-.94-.94-2.06-.94 2.06-2.06.94zm-11 1L8.5 8.5l.94-2.06 2.06-.94-2.06-.94L8.5 2.5l-.94 2.06-2.06.94zm10 10l.94 2.06.94-2.06 2.06-.94-2.06-.94-.94-2.06-.94 2.06-2.06.94z\"/><path d=\"M17.41 7.96l-1.37-1.37c-.4-.4-.92-.59-1.43-.59-.52 0-1.04.2-1.43.59L10.3 9.45l-7.72 7.72c-.78.78-.78 2.05 0 2.83L4 21.41c.39.39.9.59 1.41.59.51 0 1.02-.2 1.41-.59l7.78-7.78 2.81-2.81c.8-.78.8-2.07 0-2.86zM5.41 20L4 18.59l7.72-7.72 1.47 1.35L5.41 20z\"/>\n",
              "  </svg>\n",
              "      </button>\n",
              "      \n",
              "  <style>\n",
              "    .colab-df-container {\n",
              "      display:flex;\n",
              "      flex-wrap:wrap;\n",
              "      gap: 12px;\n",
              "    }\n",
              "\n",
              "    .colab-df-convert {\n",
              "      background-color: #E8F0FE;\n",
              "      border: none;\n",
              "      border-radius: 50%;\n",
              "      cursor: pointer;\n",
              "      display: none;\n",
              "      fill: #1967D2;\n",
              "      height: 32px;\n",
              "      padding: 0 0 0 0;\n",
              "      width: 32px;\n",
              "    }\n",
              "\n",
              "    .colab-df-convert:hover {\n",
              "      background-color: #E2EBFA;\n",
              "      box-shadow: 0px 1px 2px rgba(60, 64, 67, 0.3), 0px 1px 3px 1px rgba(60, 64, 67, 0.15);\n",
              "      fill: #174EA6;\n",
              "    }\n",
              "\n",
              "    [theme=dark] .colab-df-convert {\n",
              "      background-color: #3B4455;\n",
              "      fill: #D2E3FC;\n",
              "    }\n",
              "\n",
              "    [theme=dark] .colab-df-convert:hover {\n",
              "      background-color: #434B5C;\n",
              "      box-shadow: 0px 1px 3px 1px rgba(0, 0, 0, 0.15);\n",
              "      filter: drop-shadow(0px 1px 2px rgba(0, 0, 0, 0.3));\n",
              "      fill: #FFFFFF;\n",
              "    }\n",
              "  </style>\n",
              "\n",
              "      <script>\n",
              "        const buttonEl =\n",
              "          document.querySelector('#df-cae2feff-31d9-4169-93b6-b4c43d5b1c7b button.colab-df-convert');\n",
              "        buttonEl.style.display =\n",
              "          google.colab.kernel.accessAllowed ? 'block' : 'none';\n",
              "\n",
              "        async function convertToInteractive(key) {\n",
              "          const element = document.querySelector('#df-cae2feff-31d9-4169-93b6-b4c43d5b1c7b');\n",
              "          const dataTable =\n",
              "            await google.colab.kernel.invokeFunction('convertToInteractive',\n",
              "                                                     [key], {});\n",
              "          if (!dataTable) return;\n",
              "\n",
              "          const docLinkHtml = 'Like what you see? Visit the ' +\n",
              "            '<a target=\"_blank\" href=https://colab.research.google.com/notebooks/data_table.ipynb>data table notebook</a>'\n",
              "            + ' to learn more about interactive tables.';\n",
              "          element.innerHTML = '';\n",
              "          dataTable['output_type'] = 'display_data';\n",
              "          await google.colab.output.renderOutput(dataTable, element);\n",
              "          const docLink = document.createElement('div');\n",
              "          docLink.innerHTML = docLinkHtml;\n",
              "          element.appendChild(docLink);\n",
              "        }\n",
              "      </script>\n",
              "    </div>\n",
              "  </div>\n",
              "  "
            ]
          },
          "metadata": {},
          "execution_count": 13
        }
      ],
      "source": [
        "df = materna_on_rectangle(0.2, 10, 1, [0,20], [0,10])\n"
      ]
    },
    {
      "cell_type": "markdown",
      "id": "b01dd60b-c010-4ec3-b93b-d5d45a720c60",
      "metadata": {
        "deletable": false,
        "editable": false,
        "nbgrader": {
          "cell_type": "markdown",
          "checksum": "ecc121d28e2d7677d0d5a1e2fd1bc772",
          "grade": false,
          "grade_id": "cell-833026efe8749cb0",
          "locked": true,
          "schema_version": 3,
          "solution": false,
          "task": false
        },
        "tags": [],
        "id": "b01dd60b-c010-4ec3-b93b-d5d45a720c60"
      },
      "source": [
        "#### c) Wizualizacja"
      ]
    },
    {
      "cell_type": "code",
      "execution_count": null,
      "id": "46e56f79-a365-4c8f-ae94-8e334575ecce",
      "metadata": {
        "deletable": false,
        "nbgrader": {
          "cell_type": "code",
          "checksum": "562035293eb5d2bfc82111af93d95dff",
          "grade": true,
          "grade_id": "cell-7252b987abdc121f",
          "locked": false,
          "points": 1,
          "schema_version": 3,
          "solution": true,
          "task": false
        },
        "tags": [],
        "colab": {
          "base_uri": "https://localhost:8080/",
          "height": 364
        },
        "id": "46e56f79-a365-4c8f-ae94-8e334575ecce",
        "outputId": "c29584f2-1006-474a-aeb2-51fbe60469eb"
      },
      "outputs": [
        {
          "output_type": "display_data",
          "data": {
            "text/plain": [
              "<Figure size 720x720 with 1 Axes>"
            ],
            "image/png": "[encoded data removed]"
          },
          "metadata": {}
        }
      ],
      "source": [
        "fig, ax = plt.subplots(1,1,figsize=(10,10))\n",
        "ax.scatter(df.X, df.Y, s = 6, edgecolor='g', facecolor='g')\n",
        "ax.set_aspect(1)\n",
        "ax.set_xlim(0, 20)\n",
        "ax.set_ylim(0, 10)\n",
        "ax.set_xlabel(\"X\")\n",
        "ax.set_ylabel(\"Y\")\n",
        "plt.title(\"Matern's rectangle\", {'fontsize': 15})\n",
        "plt.show()"
      ]
    },
    {
      "cell_type": "markdown",
      "id": "afeff17a-1d9e-450d-bf20-63f88d6f0618",
      "metadata": {
        "deletable": false,
        "editable": false,
        "nbgrader": {
          "cell_type": "markdown",
          "checksum": "8cfa6ed47333ead3020bcbffc9e94cd6",
          "grade": false,
          "grade_id": "cell-099d07d8447d3a89",
          "locked": true,
          "schema_version": 3,
          "solution": false,
          "task": false
        },
        "tags": [],
        "id": "afeff17a-1d9e-450d-bf20-63f88d6f0618"
      },
      "source": [
        "### Zadanie 5: Proces punktowy Thomasa w obrębie prostokątnego obszaru [10 pkt]\n",
        "\n",
        "Przygotuj funkcję `thomas_on_rectangle()`, która będzie generować proces punktowy Thomasa w obrębie prostokątnego obszaru.\n",
        "Następnie wykorzystaj przygotowaną funkcję do wygenerowania przykładowego rozkładu punktów i przedstaw go w postaci wykresu punktowego.\n",
        "\n",
        "Algorytm postępowania:\n",
        "1. Rozszerzamy analizowany obszar o bufor, którego wielkość jest zależna od wartości parametru `cluster_sigma` (na potrzeby zadania przyjmijmy 4-krotność wartości tego parametru).\n",
        "2. W obrębie rozszerzonego obszaru generujemy punkty w wykorzystaniem jednorodnego procesu Poissona o intensywności równej wartości parametru `parent_intensity`.\n",
        "3. Dla każdego z wygenerowanych punktów (centrów klastrów):\n",
        "    - Losujemy liczbę punktów znajdujących się w obrębie danego klastra $n_c$ z rozkładu Poissona o wartości oczekiwanej równej wartości parametru `mean_cluster_size`.\n",
        "    - Niezależnie od siebie losujemy wartości współrzędnych $n_c$ punktów z rozkładów normalnych o wartości oczekiwanej równej współrzędnej punktu stanowiącego centrum klastra i odchyleniu standardowym równym wartości parametru `cluster_sigma`.\n",
        "4. Usuwamy z rozkładu wszystkie punkty leżące poza analizowanym (nierozszerzonym) obszarem.\n",
        "\n",
        "Uwaga! Punkty wygenerowane w ramach procesu macierzystego (centra klastrów) nie są częścią wynikowego rozkładu punktów.\n",
        "\n",
        "Parametry przykładowego rozkładu:\n",
        " - intensywność procesu macierzystego: 0.2\n",
        " - średnia liczebność klastra: 30\n",
        " - odchylenie standardowe klastra: 0.5\n",
        " - zakres wartości współrzędnej x: 0-20\n",
        " - zakres wartości współrzędnej y: 0-10"
      ]
    },
    {
      "cell_type": "markdown",
      "id": "62ba6535-f90b-411c-94af-a560eef05dce",
      "metadata": {
        "deletable": false,
        "editable": false,
        "nbgrader": {
          "cell_type": "markdown",
          "checksum": "81d073c230dd9533cdcd9cd74f54519d",
          "grade": false,
          "grade_id": "cell-5174983fa830fdbc",
          "locked": true,
          "schema_version": 3,
          "solution": false,
          "task": false
        },
        "tags": [],
        "id": "62ba6535-f90b-411c-94af-a560eef05dce"
      },
      "source": [
        "#### a) Przygotowanie funkcji"
      ]
    },
    {
      "cell_type": "code",
      "execution_count": null,
      "id": "9692a28c-fa34-45e9-b018-1740dd8daf21",
      "metadata": {
        "deletable": false,
        "nbgrader": {
          "cell_type": "code",
          "checksum": "f11dc555eb658dae00830e673d1c2483",
          "grade": true,
          "grade_id": "cell-4486abd11db366a8",
          "locked": false,
          "points": 8,
          "schema_version": 3,
          "solution": true,
          "task": false
        },
        "tags": [],
        "id": "9692a28c-fa34-45e9-b018-1740dd8daf21"
      },
      "outputs": [],
      "source": [
        "def thomas_on_rectangle(parent_intensity, mean_cluster_size, cluster_sigma, x_lim, y_lim):\n",
        "    \"\"\"\n",
        "    Parameters\n",
        "    -------\n",
        "    parent_intensity: float\n",
        "        Liczba dodatnia określająca intensywność macierzystego procesu punktowego.\n",
        "    mean_cluster_size: float\n",
        "        Liczba dodatnia określająca oczekiwaną liczebność generowanych klastrów.\n",
        "    cluster_sigma: float\n",
        "        Liczba dodatnia określająca odchylenie standardowe rozkładu wykorzystywanego w procesie generowania klastrów.\n",
        "    x_lim: list\n",
        "        Lista określająca zakres wartości współrzędnej X.\n",
        "        Przykład: [0, 10]\n",
        "    y_lim: list\n",
        "        Lista określająca zakres wartości współrzędnej Y.\n",
        "        Przykład: [0, 10]   \n",
        "    \n",
        "    Returns\n",
        "    -------\n",
        "    points: DataFrame\n",
        "        Tablica zawierająca dwie kolumny ze współrzędnymi punktów opisane jako \"X\" i \"Y\".\n",
        "    \"\"\"\n",
        "    # YOUR CODE HERE\n",
        "    bb = cluster_sigma*4\n",
        "    x_lim_new = [x_lim[0]-bb, x_lim[1]+bb]\n",
        "    y_lim_new = [y_lim[0]-bb, y_lim[1]+bb]\n",
        "    xDeltaExt = x_lim_new[1] - x_lim_new[0];\n",
        "    yDeltaExt = y_lim_new[1] - y_lim_new[0];\n",
        "    areaTotalExt = xDeltaExt * yDeltaExt;  # area of extended rectangle\n",
        "\n",
        "    # Simulate Poisson point process for the parents\n",
        "    numbPointsParent =  homogeneous_poisson_on_rectangle(parent_intensity, x_lim_new, y_lim_new)\n",
        "    #numbPointsParent = str(numbPointsParent)\n",
        "    npp  = len(numbPointsParent)\n",
        "\n",
        "    # x and y coordinates of Poisson points for the parent\n",
        "    xxParent = x_lim_new[0] + xDeltaExt * np.random.uniform(0, 1, npp);\n",
        "    yyParent = y_lim_new[0] + yDeltaExt * np.random.uniform(0, 1, npp);\n",
        "    \n",
        "    # Simulate Poisson point process for the daughters (ie final poiint process)\n",
        "    numbPointsDaughter = np.random.poisson(mean_cluster_size, npp);\n",
        "    numbPoints = sum(numbPointsDaughter);  # total number of points\n",
        "\n",
        "    # Generate the (relative) locations in Cartesian coordinates by simulating independent normal variables\n",
        "    xx0 = np.random.normal(0, cluster_sigma, numbPoints);  # (relative) x coordinaets\n",
        "    yy0 = np.random.normal(0, cluster_sigma, numbPoints);  # (relative) y coordinates\n",
        "\n",
        "    # replicate parent points (ie centres of disks/clusters)\n",
        "    xx = np.repeat(xxParent, numbPointsDaughter);\n",
        "    yy = np.repeat(yyParent, numbPointsDaughter);\n",
        "\n",
        "    # translate points (ie parents points are the centres of cluster disks)\n",
        "    xx = xx + xx0;\n",
        "    yy = yy + yy0;\n",
        "\n",
        "    # thin points if outside the simulation window\n",
        "    booleInside = ((xx >= x_lim[0]) & (xx <= x_lim[1]) & (yy >= y_lim[0]) & (yy <= y_lim[1]));\n",
        "    # retain points inside simulation window\n",
        "    xx = xx[booleInside];  \n",
        "    yy = yy[booleInside];\n",
        "    \n",
        "    # Pass data to the DataFrame\n",
        "    data = {'X': xx, 'Y': yy}\n",
        "    data = pd.DataFrame(data)\n",
        "    \n",
        "    return data"
      ]
    },
    {
      "cell_type": "markdown",
      "id": "7a597dbd-b898-4135-b71a-d28d9fdd67d8",
      "metadata": {
        "deletable": false,
        "editable": false,
        "nbgrader": {
          "cell_type": "markdown",
          "checksum": "20f4943cffe977d2e90d6497bf2d74ba",
          "grade": false,
          "grade_id": "cell-0767c98d41be3cdd",
          "locked": true,
          "schema_version": 3,
          "solution": false,
          "task": false
        },
        "tags": [],
        "id": "7a597dbd-b898-4135-b71a-d28d9fdd67d8"
      },
      "source": [
        "#### b) Wygenerowanie procesu"
      ]
    },
    {
      "cell_type": "code",
      "execution_count": null,
      "id": "046ffc88-c6b8-4759-ae63-e1393087c7f2",
      "metadata": {
        "deletable": false,
        "nbgrader": {
          "cell_type": "code",
          "checksum": "7fd1efdbc4bc1d390bd147bb9cf4b2f1",
          "grade": true,
          "grade_id": "cell-d8638120ca6439db",
          "locked": false,
          "points": 1,
          "schema_version": 3,
          "solution": true,
          "task": false
        },
        "tags": [],
        "id": "046ffc88-c6b8-4759-ae63-e1393087c7f2"
      },
      "outputs": [],
      "source": [
        "# YOUR CODE HERE\n",
        "df = thomas_on_rectangle(0.2, 30, 0.5, [0,20], [0,10])"
      ]
    },
    {
      "cell_type": "markdown",
      "id": "4594cc9d-323e-477f-8716-b84b7b75bad8",
      "metadata": {
        "deletable": false,
        "editable": false,
        "nbgrader": {
          "cell_type": "markdown",
          "checksum": "7c7d29712e4162f96947b336c168049e",
          "grade": false,
          "grade_id": "cell-a072e12cb25e9ba7",
          "locked": true,
          "schema_version": 3,
          "solution": false,
          "task": false
        },
        "tags": [],
        "id": "4594cc9d-323e-477f-8716-b84b7b75bad8"
      },
      "source": [
        "#### c) Wizualizacja"
      ]
    },
    {
      "cell_type": "code",
      "execution_count": null,
      "id": "ca67d3dd-09a3-4b7e-9276-b47d7a2b1540",
      "metadata": {
        "deletable": false,
        "nbgrader": {
          "cell_type": "code",
          "checksum": "1e964e093ea2d69d40974d3bcd2b227d",
          "grade": true,
          "grade_id": "cell-0e700b0a0fdef851",
          "locked": false,
          "points": 1,
          "schema_version": 3,
          "solution": true,
          "task": false
        },
        "tags": [],
        "id": "ca67d3dd-09a3-4b7e-9276-b47d7a2b1540",
        "colab": {
          "base_uri": "https://localhost:8080/",
          "height": 287
        },
        "outputId": "0dc7fbb1-7a2d-4f93-b351-b63672ed82a8"
      },
      "outputs": [
        {
          "output_type": "display_data",
          "data": {
            "text/plain": [
              "<Figure size 432x288 with 1 Axes>"
            ],
            "image/png": "[encoded data removed]"
          },
          "metadata": {}
        }
      ],
      "source": [
        "# YOUR CODE HERE\n",
        "plt.scatter(df.x,df.y, edgecolor='b', facecolor='none', alpha=0.6);\n",
        "plt.xlabel(\"x\");\n",
        "plt.ylabel(\"y\");\n",
        "plt.axis('equal');\n",
        "plt.show()"
      ]
    }
  ],
  "metadata": {
    "kernelspec": {
      "display_name": "Python 3 (ipykernel)",
      "language": "python",
      "name": "python3"
    },
    "language_info": {
      "codemirror_mode": {
        "name": "ipython",
        "version": 3
      },
      "file_extension": ".py",
      "mimetype": "text/x-python",
      "name": "python",
      "nbconvert_exporter": "python",
      "pygments_lexer": "ipython3",
      "version": "3.10.8"
    },
    "colab": {
      "provenance": []
    }
  },
  "nbformat": 4,
  "nbformat_minor": 5
}