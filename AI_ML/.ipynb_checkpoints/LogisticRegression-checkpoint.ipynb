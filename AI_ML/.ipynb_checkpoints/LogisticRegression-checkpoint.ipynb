{
 "cells": [
  {
   "cell_type": "code",
   "execution_count": 3,
   "id": "baef1a79-de72-468b-96f0-2cad97c264b7",
   "metadata": {},
   "outputs": [],
   "source": [
    "# Import packages\n",
    "import numpy as np\n",
    "import utils\n",
    "import matplotlib.pyplot as plt\n",
    "import random"
   ]
  },
  {
   "cell_type": "code",
   "execution_count": 4,
   "id": "0ef16c7a-dfbd-409d-93e8-e2278f021b00",
   "metadata": {},
   "outputs": [],
   "source": [
    "# Defining dataset\n",
    "features = np.array([[1,0], [0,2], [1,1], [1,2], [1,3], [2,2], [2,3], [3,2]])\n",
    "labels = np.array([0,0,0,0,1,1,1,1])"
   ]
  },
  {
   "cell_type": "code",
   "execution_count": 5,
   "id": "af1aa20f-2f0a-469c-a8ff-b378790f9579",
   "metadata": {},
   "outputs": [
    {
     "data": {
      "image/png": "[encoded data removed]",
      "text/plain": [
       "<Figure size 640x480 with 1 Axes>"
      ]
     },
     "metadata": {},
     "output_type": "display_data"
    }
   ],
   "source": [
    "# Plotting dataset\n",
    "plt.scatter(x=features[:, 0], y=features[:, 1], c=labels)\n",
    "plt.show()"
   ]
  },
  {
   "cell_type": "code",
   "execution_count": 6,
   "id": "c0b43ebf-f96a-47dd-82f3-cc4aba17ab3c",
   "metadata": {},
   "outputs": [],
   "source": [
    "def sigmoid(x):\n",
    "    return np.exp(x)/(1+np.exp(x))\n",
    "\n",
    "def score(weights, bias, features):\n",
    "    return np.dot(weights, features)+bias\n",
    "\n",
    "def prediction(weights, bias, features):\n",
    "    return sigmoid(score(weights, bias, features))\n",
    "\n",
    "def log_loss(weights, bias, features, label):\n",
    "    pred = prediction(weights, bias, features)\n",
    "    return -label*np.log(pred) - (1-label)*np.log(1-pred)\n",
    "\n",
    "def total_log_loss(weights, bias, features, labels):\n",
    "    total_error=0\n",
    "    for i in range(len(features)):\n",
    "        total_error += log_loss(weights, bias, features[i], labels[i])\n",
    "        "
   ]
  },
  {
   "cell_type": "code",
   "execution_count": 7,
   "id": "5b73e058-01dc-42c2-b8ea-797e2cdf52ef",
   "metadata": {},
   "outputs": [],
   "source": [
    "def logistic_trick(weights, bias, features, label, learning_rate = 0.01):\n",
    "    pred = prediction(weights, bias, features)\n",
    "    for i in range(len(weights)):\n",
    "        weights[i] += (label-pred)*features[i]*learning_rate\n",
    "    bias += (label-pred)*learning_rate\n",
    "    return weights, bias"
   ]
  },
  {
   "cell_type": "code",
   "execution_count": 10,
   "id": "253f4e14-eea5-4773-b41e-8dea894de763",
   "metadata": {},
   "outputs": [],
   "source": [
    "def logistic_regression_algorithm(features, labels, learning_rate = 0.01, epochs = 1000):\n",
    "    weights = [1.0 for i in range(len(features[0]))]\n",
    "    bias = 0.0\n",
    "    errors = []\n",
    "    for i in range(epochs):\n",
    "        errors.append(total_log_loss(weights, bias, features, labels))\n",
    "        j = random.randint(0, len(features)-1)\n",
    "        weights, bias = logistic_trick(weights, bias, features[j], labels[j])\n",
    "    return weights, bias"
   ]
  },
  {
   "cell_type": "code",
   "execution_count": 11,
   "id": "dfd01f50-3fde-4ece-9d20-54498c030877",
   "metadata": {},
   "outputs": [
    {
     "data": {
      "text/plain": [
       "([0.8595049321877464, 0.4550208450639661], -1.533518841904587)"
      ]
     },
     "execution_count": 11,
     "metadata": {},
     "output_type": "execute_result"
    }
   ],
   "source": [
    "logistic_regression_algorithm(features, labels)"
   ]
  }
 ],
 "metadata": {
  "kernelspec": {
   "display_name": "Python 3 (ipykernel)",
   "language": "python",
   "name": "python3"
  },
  "language_info": {
   "codemirror_mode": {
    "name": "ipython",
    "version": 3
   },
   "file_extension": ".py",
   "mimetype": "text/x-python",
   "name": "python",
   "nbconvert_exporter": "python",
   "pygments_lexer": "ipython3",
   "version": "3.10.7"
  }
 },
 "nbformat": 4,
 "nbformat_minor": 5
}
