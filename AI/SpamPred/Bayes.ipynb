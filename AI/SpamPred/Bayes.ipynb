{
 "cells": [
  {
   "cell_type": "markdown",
   "id": "de2ebcea-fda0-42a8-b7e2-55115b3dcb31",
   "metadata": {},
   "source": [
    "# Coding a spam classifier with naive Bayes\n",
    "\n",
    "Based on the book \"grokking Machine Learning\" by Luis G. Serrano"
   ]
  },
  {
   "cell_type": "code",
   "execution_count": 21,
   "id": "0ceec7a2-fd13-4def-a681-6290677c3011",
   "metadata": {},
   "outputs": [],
   "source": [
    "# Import modules\n",
    "import pandas as pd\n",
    "import numpy as np"
   ]
  },
  {
   "cell_type": "code",
   "execution_count": 3,
   "id": "f915a37d-0441-4236-b957-333610d11a51",
   "metadata": {},
   "outputs": [
    {
     "data": {
      "text/html": [
       "<div>\n",
       "<style scoped>\n",
       "    .dataframe tbody tr th:only-of-type {\n",
       "        vertical-align: middle;\n",
       "    }\n",
       "\n",
       "    .dataframe tbody tr th {\n",
       "        vertical-align: top;\n",
       "    }\n",
       "\n",
       "    .dataframe thead th {\n",
       "        text-align: right;\n",
       "    }\n",
       "</style>\n",
       "<table border=\"1\" class=\"dataframe\">\n",
       "  <thead>\n",
       "    <tr style=\"text-align: right;\">\n",
       "      <th></th>\n",
       "      <th>text</th>\n",
       "      <th>spam</th>\n",
       "    </tr>\n",
       "  </thead>\n",
       "  <tbody>\n",
       "    <tr>\n",
       "      <th>0</th>\n",
       "      <td>Subject: naturally irresistible your corporate...</td>\n",
       "      <td>1</td>\n",
       "    </tr>\n",
       "    <tr>\n",
       "      <th>1</th>\n",
       "      <td>Subject: the stock trading gunslinger  fanny i...</td>\n",
       "      <td>1</td>\n",
       "    </tr>\n",
       "    <tr>\n",
       "      <th>2</th>\n",
       "      <td>Subject: unbelievable new homes made easy  im ...</td>\n",
       "      <td>1</td>\n",
       "    </tr>\n",
       "    <tr>\n",
       "      <th>3</th>\n",
       "      <td>Subject: 4 color printing special  request add...</td>\n",
       "      <td>1</td>\n",
       "    </tr>\n",
       "    <tr>\n",
       "      <th>4</th>\n",
       "      <td>Subject: do not have money , get software cds ...</td>\n",
       "      <td>1</td>\n",
       "    </tr>\n",
       "  </tbody>\n",
       "</table>\n",
       "</div>"
      ],
      "text/plain": [
       "                                                text  spam\n",
       "0  Subject: naturally irresistible your corporate...     1\n",
       "1  Subject: the stock trading gunslinger  fanny i...     1\n",
       "2  Subject: unbelievable new homes made easy  im ...     1\n",
       "3  Subject: 4 color printing special  request add...     1\n",
       "4  Subject: do not have money , get software cds ...     1"
      ]
     },
     "execution_count": 3,
     "metadata": {},
     "output_type": "execute_result"
    }
   ],
   "source": [
    "emails = pd.read_csv('emails.csv')\n",
    "emails.head()"
   ]
  },
  {
   "cell_type": "code",
   "execution_count": 5,
   "id": "4a644f9c-fce8-4b47-b0ec-29b7d378ba24",
   "metadata": {},
   "outputs": [
    {
     "data": {
      "text/html": [
       "<div>\n",
       "<style scoped>\n",
       "    .dataframe tbody tr th:only-of-type {\n",
       "        vertical-align: middle;\n",
       "    }\n",
       "\n",
       "    .dataframe tbody tr th {\n",
       "        vertical-align: top;\n",
       "    }\n",
       "\n",
       "    .dataframe thead th {\n",
       "        text-align: right;\n",
       "    }\n",
       "</style>\n",
       "<table border=\"1\" class=\"dataframe\">\n",
       "  <thead>\n",
       "    <tr style=\"text-align: right;\">\n",
       "      <th></th>\n",
       "      <th>text</th>\n",
       "      <th>spam</th>\n",
       "      <th>words</th>\n",
       "    </tr>\n",
       "  </thead>\n",
       "  <tbody>\n",
       "    <tr>\n",
       "      <th>0</th>\n",
       "      <td>Subject: naturally irresistible your corporate...</td>\n",
       "      <td>1</td>\n",
       "      <td>[subject:, naturally, irresistible, your, corp...</td>\n",
       "    </tr>\n",
       "    <tr>\n",
       "      <th>1</th>\n",
       "      <td>Subject: the stock trading gunslinger  fanny i...</td>\n",
       "      <td>1</td>\n",
       "      <td>[subject:, the, stock, trading, gunslinger, fa...</td>\n",
       "    </tr>\n",
       "    <tr>\n",
       "      <th>2</th>\n",
       "      <td>Subject: unbelievable new homes made easy  im ...</td>\n",
       "      <td>1</td>\n",
       "      <td>[subject:, unbelievable, new, homes, made, eas...</td>\n",
       "    </tr>\n",
       "    <tr>\n",
       "      <th>3</th>\n",
       "      <td>Subject: 4 color printing special  request add...</td>\n",
       "      <td>1</td>\n",
       "      <td>[subject:, 4, color, printing, special, reques...</td>\n",
       "    </tr>\n",
       "    <tr>\n",
       "      <th>4</th>\n",
       "      <td>Subject: do not have money , get software cds ...</td>\n",
       "      <td>1</td>\n",
       "      <td>[subject:, do, not, have, money, ,, get, softw...</td>\n",
       "    </tr>\n",
       "    <tr>\n",
       "      <th>5</th>\n",
       "      <td>Subject: great nnews  hello , welcome to medzo...</td>\n",
       "      <td>1</td>\n",
       "      <td>[subject:, great, nnews, hello, ,, welcome, to...</td>\n",
       "    </tr>\n",
       "    <tr>\n",
       "      <th>6</th>\n",
       "      <td>Subject: here ' s a hot play in motion  homela...</td>\n",
       "      <td>1</td>\n",
       "      <td>[subject:, here, ', s, a, hot, play, in, motio...</td>\n",
       "    </tr>\n",
       "    <tr>\n",
       "      <th>7</th>\n",
       "      <td>Subject: save your money buy getting this thin...</td>\n",
       "      <td>1</td>\n",
       "      <td>[subject:, save, your, money, buy, getting, th...</td>\n",
       "    </tr>\n",
       "    <tr>\n",
       "      <th>8</th>\n",
       "      <td>Subject: undeliverable : home based business f...</td>\n",
       "      <td>1</td>\n",
       "      <td>[subject:, undeliverable, :, home, based, busi...</td>\n",
       "    </tr>\n",
       "    <tr>\n",
       "      <th>9</th>\n",
       "      <td>Subject: save your money buy getting this thin...</td>\n",
       "      <td>1</td>\n",
       "      <td>[subject:, save, your, money, buy, getting, th...</td>\n",
       "    </tr>\n",
       "  </tbody>\n",
       "</table>\n",
       "</div>"
      ],
      "text/plain": [
       "                                                text  spam  \\\n",
       "0  Subject: naturally irresistible your corporate...     1   \n",
       "1  Subject: the stock trading gunslinger  fanny i...     1   \n",
       "2  Subject: unbelievable new homes made easy  im ...     1   \n",
       "3  Subject: 4 color printing special  request add...     1   \n",
       "4  Subject: do not have money , get software cds ...     1   \n",
       "5  Subject: great nnews  hello , welcome to medzo...     1   \n",
       "6  Subject: here ' s a hot play in motion  homela...     1   \n",
       "7  Subject: save your money buy getting this thin...     1   \n",
       "8  Subject: undeliverable : home based business f...     1   \n",
       "9  Subject: save your money buy getting this thin...     1   \n",
       "\n",
       "                                               words  \n",
       "0  [subject:, naturally, irresistible, your, corp...  \n",
       "1  [subject:, the, stock, trading, gunslinger, fa...  \n",
       "2  [subject:, unbelievable, new, homes, made, eas...  \n",
       "3  [subject:, 4, color, printing, special, reques...  \n",
       "4  [subject:, do, not, have, money, ,, get, softw...  \n",
       "5  [subject:, great, nnews, hello, ,, welcome, to...  \n",
       "6  [subject:, here, ', s, a, hot, play, in, motio...  \n",
       "7  [subject:, save, your, money, buy, getting, th...  \n",
       "8  [subject:, undeliverable, :, home, based, busi...  \n",
       "9  [subject:, save, your, money, buy, getting, th...  "
      ]
     },
     "execution_count": 5,
     "metadata": {},
     "output_type": "execute_result"
    }
   ],
   "source": [
    "def process_email(text):\n",
    "    text = text.lower()\n",
    "    return list(text.split())\n",
    "\n",
    "emails['words'] = emails['text'].apply(process_email)\n",
    "emails.head(10)"
   ]
  },
  {
   "cell_type": "code",
   "execution_count": 12,
   "id": "283934bb-5bdd-42cf-9895-33882e1f086f",
   "metadata": {},
   "outputs": [
    {
     "name": "stdout",
     "output_type": "stream",
     "text": [
      "Number of emails: 5728\n",
      "Number of spam emails: 1368\n",
      "\n",
      "Probability of spam: 0.2388268156424581\n",
      "Probability that an email is ham: 0.7611731843575419\n"
     ]
    }
   ],
   "source": [
    "num_emails = len(emails)\n",
    "spam_emails = sum(emails['spam'])\n",
    "\n",
    "print(f'Number of emails: {num_emails}')\n",
    "print(f'Number of spam emails: {spam_emails}')\n",
    "\n",
    "# Calculate prior probability, that email is spam\n",
    "p_spam = spam_emails / num_emails\n",
    "print(f'\\nProbability of spam: {p_spam}')\n",
    "\n",
    "p_ham = 1 - p_spam\n",
    "print(f'Probability that an email is ham: {p_ham}')"
   ]
  },
  {
   "cell_type": "markdown",
   "id": "d0b3a0d5-d0ac-4cdf-91ba-9c1e82e554b9",
   "metadata": {},
   "source": [
    "## Training a naive Bayes model"
   ]
  },
  {
   "cell_type": "code",
   "execution_count": 13,
   "id": "380cc67f-2de9-4ded-89e7-fadaefa9cd7c",
   "metadata": {},
   "outputs": [],
   "source": [
    "model = {}\n",
    "\n",
    "# Training process\n",
    "for index, email in emails.iterrows():\n",
    "    for word in email['words']:\n",
    "        if word not in model:\n",
    "            model[word] = {'spam': 1, 'ham': 1}\n",
    "        if word in model:\n",
    "            if email['spam']:\n",
    "                model[word]['spam'] += 1\n",
    "            else:\n",
    "                model[word]['ham'] += 1"
   ]
  },
  {
   "cell_type": "code",
   "execution_count": 14,
   "id": "e7041c7e-3909-44d2-9ec8-b223fab8c409",
   "metadata": {},
   "outputs": [
    {
     "data": {
      "text/plain": [
       "{'spam': 21, 'ham': 1}"
      ]
     },
     "execution_count": 14,
     "metadata": {},
     "output_type": "execute_result"
    }
   ],
   "source": [
    "model['lottery']"
   ]
  },
  {
   "cell_type": "code",
   "execution_count": 15,
   "id": "f3c5acbf-434d-43c1-a9f0-06d37008a595",
   "metadata": {},
   "outputs": [
    {
     "data": {
      "text/plain": [
       "{'spam': 51, 'ham': 57}"
      ]
     },
     "execution_count": 15,
     "metadata": {},
     "output_type": "execute_result"
    }
   ],
   "source": [
    "model['sale']"
   ]
  },
  {
   "cell_type": "markdown",
   "id": "650d20bf-ce93-4e34-a51d-d5998ac4d428",
   "metadata": {},
   "source": [
    "## Using model to make predicitons"
   ]
  },
  {
   "cell_type": "code",
   "execution_count": 16,
   "id": "fcdbbdb5-fd83-45ca-9ef2-bae92a7c9cac",
   "metadata": {},
   "outputs": [],
   "source": [
    "def predict_bayes(word):\n",
    "    word = word.lower()\n",
    "    num_spam_with_word = model[word]['spam']\n",
    "    num_ham_with_word = model[word]['ham']\n",
    "    return 1.0*num_spam_with_word/(num_spam_with_word + num_ham_with_word)"
   ]
  },
  {
   "cell_type": "code",
   "execution_count": 17,
   "id": "0ef9e1bb-8afb-487a-80af-ec5ad50d47e4",
   "metadata": {},
   "outputs": [
    {
     "data": {
      "text/plain": [
       "0.9545454545454546"
      ]
     },
     "execution_count": 17,
     "metadata": {},
     "output_type": "execute_result"
    }
   ],
   "source": [
    "predict_bayes('lottery')"
   ]
  },
  {
   "cell_type": "code",
   "execution_count": 18,
   "id": "24e74f40-055f-4187-92fa-8d7884843fd4",
   "metadata": {},
   "outputs": [
    {
     "data": {
      "text/plain": [
       "0.4722222222222222"
      ]
     },
     "execution_count": 18,
     "metadata": {},
     "output_type": "execute_result"
    }
   ],
   "source": [
    "predict_bayes('sale')"
   ]
  },
  {
   "cell_type": "code",
   "execution_count": 33,
   "id": "9ab54543-3b52-4782-8553-ab9e872cc34b",
   "metadata": {},
   "outputs": [],
   "source": [
    "def predict_naive_bayes(email):\n",
    "    total = len(emails)\n",
    "    num_spam = sum(emails['spam'])\n",
    "    num_ham = total - num_spam\n",
    "    email = email.lower()\n",
    "    words = set(email.split())\n",
    "    spams = [1.0]\n",
    "    hams = [1.0]\n",
    "    for word in words:\n",
    "        if word in model:\n",
    "            spams.append(model[word]['spam']/num_spam*total)\n",
    "            hams.append(model[word]['ham']/num_ham*total)\n",
    "    # Multiplies all the previous probabilities times the prior probability of the email being spam/ham\n",
    "    prod_spams = np.compat.long(np.prod(spams)*num_spam)\n",
    "    prod_hams = np.compat.long(np.prod(hams)*num_ham)\n",
    "    return prod_spams/(prod_spams+prod_hams)"
   ]
  },
  {
   "cell_type": "code",
   "execution_count": 34,
   "id": "388e719f-8b67-4b6f-aeb1-ca4d339ca746",
   "metadata": {},
   "outputs": [
    {
     "name": "stdout",
     "output_type": "stream",
     "text": [
      "[1.0, 87.9298245614035, 213.5438596491228]\n",
      "25686763\n"
     ]
    },
    {
     "data": {
      "text/plain": [
       "0.9835755120483081"
      ]
     },
     "execution_count": 34,
     "metadata": {},
     "output_type": "execute_result"
    }
   ],
   "source": [
    "predict_naive_bayes('lottery sale')"
   ]
  },
  {
   "cell_type": "code",
   "execution_count": 25,
   "id": "e038bc77-967d-4e77-9ea1-ae87c492f677",
   "metadata": {},
   "outputs": [
    {
     "data": {
      "text/plain": [
       "0.20298303946655008"
      ]
     },
     "execution_count": 25,
     "metadata": {},
     "output_type": "execute_result"
    }
   ],
   "source": [
    "predict_naive_bayes('hi mom how are you')"
   ]
  },
  {
   "cell_type": "code",
   "execution_count": 26,
   "id": "697cf233-282d-4331-b808-fae666ba2344",
   "metadata": {},
   "outputs": [
    {
     "data": {
      "text/plain": [
       "0.999849057446422"
      ]
     },
     "execution_count": 26,
     "metadata": {},
     "output_type": "execute_result"
    }
   ],
   "source": [
    "predict_naive_bayes('enter the lottery to win three million dollars')"
   ]
  },
  {
   "cell_type": "code",
   "execution_count": 28,
   "id": "9d8b5c28-9983-4962-a3a3-03022ec04182",
   "metadata": {},
   "outputs": [
    {
     "data": {
      "text/plain": [
       "0.000892658664893121"
      ]
     },
     "execution_count": 28,
     "metadata": {},
     "output_type": "execute_result"
    }
   ],
   "source": [
    "predict_naive_bayes('meeting tomorrow at 7')"
   ]
  }
 ],
 "metadata": {
  "kernelspec": {
   "display_name": "Python 3 (ipykernel)",
   "language": "python",
   "name": "python3"
  },
  "language_info": {
   "codemirror_mode": {
    "name": "ipython",
    "version": 3
   },
   "file_extension": ".py",
   "mimetype": "text/x-python",
   "name": "python",
   "nbconvert_exporter": "python",
   "pygments_lexer": "ipython3",
   "version": "3.10.8"
  }
 },
 "nbformat": 4,
 "nbformat_minor": 5
}
